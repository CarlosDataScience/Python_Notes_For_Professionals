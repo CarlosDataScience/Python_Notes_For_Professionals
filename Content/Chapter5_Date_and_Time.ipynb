{
 "cells": [
  {
   "attachments": {},
   "cell_type": "markdown",
   "metadata": {},
   "source": [
    "# Date and Time"
   ]
  },
  {
   "attachments": {},
   "cell_type": "markdown",
   "metadata": {},
   "source": [
    "## 5.1 Parsing a string into a timezone aware datetime object."
   ]
  },
  {
   "attachments": {},
   "cell_type": "markdown",
   "metadata": {},
   "source": [
    "Python 3.2+ has support for %z format when parsing a string into a datetime object."
   ]
  },
  {
   "cell_type": "code",
   "execution_count": null,
   "metadata": {},
   "outputs": [],
   "source": [
    "import datetime\n",
    "dt = datetime.datetime.strptime(\"2016-04-15T08:27:18-0500\", \"%Y-%m-%dT%H:%M:%S%z\")"
   ]
  },
  {
   "attachments": {},
   "cell_type": "markdown",
   "metadata": {},
   "source": [
    "For other versions of Python, you can use an external library such as dateutil, which makes parsing a string with timezone into a datetime object is quick."
   ]
  },
  {
   "cell_type": "code",
   "execution_count": null,
   "metadata": {},
   "outputs": [],
   "source": [
    "import dateutil.parser\n",
    "dt = dateutil.parser.parse(\"2016-04-15T08:27:18-0500\")"
   ]
  },
  {
   "attachments": {},
   "cell_type": "markdown",
   "metadata": {},
   "source": [
    "The dt variable is now a datetime object with the following value:"
   ]
  },
  {
   "cell_type": "code",
   "execution_count": null,
   "metadata": {},
   "outputs": [],
   "source": [
    "datetime.datetime(2016, 4, 15, 8, 27, 18, tzinfo=tzoffset(None, -18000))"
   ]
  },
  {
   "attachments": {},
   "cell_type": "markdown",
   "metadata": {},
   "source": [
    "## 5.2 Constructing timezone-aware datetimes"
   ]
  },
  {
   "attachments": {},
   "cell_type": "markdown",
   "metadata": {},
   "source": [
    "By default all datetime objects are naive. To make them timezone-aware, you must attach a tzinfo object, which\n",
    "provides the UTC offset and timezone abbreviation as a function of date and time.\n",
    "\n",
    "**Fixed Offset Time Zones**\n",
    "\n",
    "For time zones that are a fixed offset from UTC, in Python 3.2+, the datetime module provides the timezone class, a concrete implementation of tzinfo, which takes a timedelta and an (optional) name parameter:"
   ]
  },
  {
   "cell_type": "code",
   "execution_count": null,
   "metadata": {},
   "outputs": [],
   "source": [
    "from datetime import datetime, timedelta, timezone\n",
    "JST = timezone(timedelta(hours=+9))\n",
    "dt = datetime(2015, 1, 1, 12, 0, 0, tzinfo=JST)\n",
    "print(dt)\n",
    "# 2015-01-01 12:00:00+09:00\n",
    "print(dt.tzname())\n",
    "# UTC+09:00\n",
    "dt = datetime(2015, 1, 1, 12, 0, 0, tzinfo=timezone(timedelta(hours=9), 'JST'))\n",
    "print(dt.tzname)\n",
    "# 'JST'"
   ]
  },
  {
   "attachments": {},
   "cell_type": "markdown",
   "metadata": {},
   "source": [
    "For Python versions before 3.2, it is necessary to use a third party library, such as dateutil. dateutil provides an\n",
    "equivalent class, tzoffset, which (as of version 2.5.3) takes arguments of the form dateutil.tz.tzoffset(tzname,\n",
    "offset), where offset is specified in seconds:"
   ]
  },
  {
   "cell_type": "code",
   "execution_count": null,
   "metadata": {},
   "outputs": [],
   "source": [
    "from datetime import datetime, timedelta\n",
    "from dateutil import tz\n",
    "JST = tz.tzoffset('JST', 9 * 3600) # 3600 seconds per hour\n",
    "dt = datetime(2015, 1, 1, 12, 0, tzinfo=JST)\n",
    "print(dt)\n",
    "# 2015-01-01 12:00:00+09:00\n",
    "print(dt.tzname)\n",
    "# 'JST'"
   ]
  },
  {
   "attachments": {},
   "cell_type": "markdown",
   "metadata": {},
   "source": [
    "**Zones with daylight savings time**\n",
    "\n",
    "For zones with daylight savings time, python standard libraries do not provide a standard class, so it is necessary to use a third party library. pytz and dateutil are popular libraries providing time zone classes.\n",
    "\n",
    "In addition to static time zones, dateutil provides time zone classes that use daylight savings time (see the\n",
    "documentation for the tz module). You can use the tz.gettz() method to get a time zone object, which can then\n",
    "be passed directly to the datetime constructor:"
   ]
  },
  {
   "cell_type": "code",
   "execution_count": null,
   "metadata": {},
   "outputs": [],
   "source": [
    "from datetime import datetime\n",
    "from dateutil import tz\n",
    "local = tz.gettz() # Local time\n",
    "PT = tz.gettz('US/Pacific') # Pacific time\n",
    "dt_l = datetime(2015, 1, 1, 12, tzinfo=local) # I am in EST\n",
    "dt_pst = datetime(2015, 1, 1, 12, tzinfo=PT)\n",
    "dt_pdt = datetime(2015, 7, 1, 12, tzinfo=PT) # DST is handled automatically\n",
    "print(dt_l)\n",
    "# 2015-01-01 12:00:00-05:00\n",
    "print(dt_pst)\n",
    "# 2015-01-01 12:00:00-08:00\n",
    "print(dt_pdt)\n",
    "# 2015-07-01 12:00:00-07:00"
   ]
  },
  {
   "attachments": {},
   "cell_type": "markdown",
   "metadata": {},
   "source": [
    "**CAUTION**: As of version 2.5.3, dateutil does not handle ambiguous datetimes correctly, and will always default to the later date. There is no way to construct an object with a dateutil timezone representing, for example 2015-11-01 1:30 EDT-4, since this is during a daylight savings time transition.\n",
    "\n",
    "All edge cases are handled properly when using pytz, but pytz time zones should not be directly attached to time zones through the constructor. Instead, a pytz time zone should be attached using the time zone's localize method:"
   ]
  },
  {
   "cell_type": "code",
   "execution_count": null,
   "metadata": {},
   "outputs": [],
   "source": [
    "from datetime import datetime, timedelta\n",
    "import pytz\n",
    "PT = pytz.timezone('US/Pacific')\n",
    "dt_pst = PT.localize(datetime(2015, 1, 1, 12))\n",
    "dt_pdt = PT.localize(datetime(2015, 11, 1, 0, 30))\n",
    "print(dt_pst)\n",
    "# 2015-01-01 12:00:00-08:00\n",
    "print(dt_pdt)\n",
    "# 2015-11-01 00:30:00-07:00"
   ]
  },
  {
   "attachments": {},
   "cell_type": "markdown",
   "metadata": {},
   "source": [
    "Be aware that if you perform datetime arithmetic on a pytz-aware time zone, you must either perform the\n",
    "calculations in UTC (if you want absolute elapsed time), or you must call normalize() on the result:"
   ]
  },
  {
   "cell_type": "code",
   "execution_count": null,
   "metadata": {},
   "outputs": [],
   "source": [
    "dt_new = dt_pdt + timedelta(hours=3) # This should be 2:30 AM PST\n",
    "print(dt_new)\n",
    "# 2015-11-01 03:30:00-07:00\n",
    "dt_corrected = PT.normalize(dt_new)\n",
    "print(dt_corrected)\n",
    "# 2015-11-01 02:30:00-08:00"
   ]
  },
  {
   "attachments": {},
   "cell_type": "markdown",
   "metadata": {},
   "source": [
    "## 5.3 Computing time differences"
   ]
  },
  {
   "attachments": {},
   "cell_type": "markdown",
   "metadata": {},
   "source": [
    "The timedelta module comes in handy to compute differences between times:"
   ]
  },
  {
   "cell_type": "code",
   "execution_count": null,
   "metadata": {},
   "outputs": [],
   "source": [
    "from datetime import datetime, timedelta\n",
    "now = datetime.now()\n",
    "then = datetime(2016, 5, 23) # datetime.datetime(2016, 05, 23, 0, 0, 0)"
   ]
  },
  {
   "attachments": {},
   "cell_type": "markdown",
   "metadata": {},
   "source": [
    "Specifying time is optional when creating a new datetime object"
   ]
  },
  {
   "cell_type": "code",
   "execution_count": null,
   "metadata": {},
   "outputs": [],
   "source": [
    "delta = now-then"
   ]
  },
  {
   "attachments": {},
   "cell_type": "markdown",
   "metadata": {},
   "source": [
    "delta is of type timedelta"
   ]
  },
  {
   "cell_type": "code",
   "execution_count": null,
   "metadata": {},
   "outputs": [],
   "source": [
    "print(delta.days)\n",
    "# 60\n",
    "print(delta.seconds)\n",
    "# 40826"
   ]
  },
  {
   "attachments": {},
   "cell_type": "markdown",
   "metadata": {},
   "source": [
    "To get n day's after and n day's before date we could use:\n",
    "\n",
    "**n day's after date:**"
   ]
  },
  {
   "cell_type": "code",
   "execution_count": null,
   "metadata": {},
   "outputs": [],
   "source": [
    "def get_n_days_after_date(date_format=\"%d %B %Y\", add_days=120):\n",
    "    date_n_days_after = datetime.datetime.now() + timedelta(days=add_days)\n",
    "    return date_n_days_after.strftime(date_format)"
   ]
  },
  {
   "attachments": {},
   "cell_type": "markdown",
   "metadata": {},
   "source": [
    "**n day's before date:**"
   ]
  },
  {
   "cell_type": "code",
   "execution_count": null,
   "metadata": {},
   "outputs": [],
   "source": [
    "def get_n_days_before_date(self, date_format=\"%d %B %Y\", days_before=120):\n",
    "    date_n_days_ago = datetime.datetime.now() - timedelta(days=days_before)\n",
    "    return date_n_days_ago.strftime(date_format)"
   ]
  },
  {
   "attachments": {},
   "cell_type": "markdown",
   "metadata": {},
   "source": [
    "## 5.4 Basic datetime objects usage"
   ]
  },
  {
   "attachments": {},
   "cell_type": "markdown",
   "metadata": {},
   "source": [
    "The datetime module contains three primary types of objects - date, time, and datetime."
   ]
  },
  {
   "cell_type": "code",
   "execution_count": null,
   "metadata": {},
   "outputs": [],
   "source": [
    "import datetime\n",
    "# Date object\n",
    "today = datetime.date.today()\n",
    "new_year = datetime.date(2017, 1, 1) #datetime.date(2017, 1, 1)\n",
    "# Time object\n",
    "noon = datetime.time(12, 0, 0) #datetime.time(12, 0)\n",
    "# Current datetime\n",
    "now = datetime.datetime.now()\n",
    "# Datetime object\n",
    "millenium_turn = datetime.datetime(2000, 1, 1, 0, 0, 0) #datetime.datetime(2000, 1, 1, 0, 0)"
   ]
  },
  {
   "attachments": {},
   "cell_type": "markdown",
   "metadata": {},
   "source": [
    "Arithmetic operations for these objects are only supported within same datatype and performing simple arithmetic with instances of different types will result in a TypeError."
   ]
  },
  {
   "cell_type": "code",
   "execution_count": null,
   "metadata": {},
   "outputs": [],
   "source": [
    "# subtraction of noon from today\n",
    "noon-today\n",
    "\"\"\"\n",
    "Output:\n",
    "\n",
    "Traceback (most recent call last):\n",
    "    File \"<stdin>\", line 1, in <module>\n",
    "TypeError: unsupported operand type(s) for -: 'datetime.time' and 'datetime.date'\n",
    "However, it is straightforward to convert between types.\n",
    "\"\"\"\n",
    "\n",
    "# Do this instead\n",
    "print('Time since the millenium at midnight: ',\n",
    "    datetime.datetime(today.year, today.month, today.day) - millenium_turn)\n",
    "# Or this\n",
    "print('Time since the millenium at noon: ',\n",
    "    datetime.datetime.combine(today, noon) - millenium_turn)"
   ]
  },
  {
   "attachments": {},
   "cell_type": "markdown",
   "metadata": {},
   "source": [
    "## 5.5 Switching between time zones"
   ]
  },
  {
   "attachments": {},
   "cell_type": "markdown",
   "metadata": {},
   "source": [
    "To switch between time zones, you need datetime objects that are timezone-aware."
   ]
  },
  {
   "cell_type": "code",
   "execution_count": null,
   "metadata": {},
   "outputs": [],
   "source": [
    "from datetime import datetime\n",
    "from dateutil import tz\n",
    "\n",
    "utc = tz.tzutc()\n",
    "local = tz.tzlocal()\n",
    "\n",
    "utc_now = datetime.utcnow()\n",
    "utc_now # Not timezone-aware.\n",
    "\n",
    "utc_now = utc_now.replace(tzinfo=utc)\n",
    "utc_now # Timezone-aware.\n",
    "\n",
    "local_now = utc_now.astimezone(local)\n",
    "local_now # Converted to local time."
   ]
  },
  {
   "attachments": {},
   "cell_type": "markdown",
   "metadata": {},
   "source": [
    "## 5.6 Simple date arithmetic"
   ]
  },
  {
   "attachments": {},
   "cell_type": "markdown",
   "metadata": {},
   "source": [
    "Dates don't exist in isolation. It is common that you will need to find the amount of time between dates or determine what the date will be tomorrow. This can be accomplished using timedelta objects.\n"
   ]
  },
  {
   "cell_type": "code",
   "execution_count": null,
   "metadata": {},
   "outputs": [],
   "source": [
    "import datetime\n",
    "\n",
    "today = datetime.date.today()\n",
    "print('Today:', today)\n",
    "\n",
    "yesterday = today - datetime.timedelta(days=1)\n",
    "print('Yesterday:', yesterday)\n",
    "\n",
    "tomorrow = today + datetime.timedelta(days=1)\n",
    "print('Tomorrow:', tomorrow)\n",
    "\n",
    "print('Time between tomorrow and yesterday:', tomorrow - yesterday)\n",
    "\n",
    "\"\"\"\n",
    "Output:\n",
    "\n",
    "Today: 2016-04-15\n",
    "Yesterday: 2016-04-14\n",
    "Tomorrow: 2016-04-16\n",
    "Difference between tomorrow and yesterday: 2 days, 0:00:00\n",
    "\n",
    "\"\"\""
   ]
  },
  {
   "attachments": {},
   "cell_type": "markdown",
   "metadata": {},
   "source": [
    "## 5.7 Converting timestamp to datetime"
   ]
  },
  {
   "attachments": {},
   "cell_type": "markdown",
   "metadata": {},
   "source": [
    "The datetime module can convert a POSIX timestamp to a ITC datetime object.\n",
    "\n",
    "The Epoch is January 1st, 1970 midnight."
   ]
  },
  {
   "cell_type": "code",
   "execution_count": null,
   "metadata": {},
   "outputs": [],
   "source": [
    "import time\n",
    "from datetime import datetime\n",
    "seconds_since_epoch=time.time() #1469182681.709\n",
    "utc_date=datetime.utcfromtimestamp(seconds_since_epoch) #datetime.datetime(2016, 7, 22, 10, 18, 1, 709000)"
   ]
  },
  {
   "attachments": {},
   "cell_type": "markdown",
   "metadata": {},
   "source": [
    "## 5.8 Substracting months from a date accurately"
   ]
  },
  {
   "attachments": {},
   "cell_type": "markdown",
   "metadata": {},
   "source": [
    "Using the calendar module"
   ]
  },
  {
   "cell_type": "code",
   "execution_count": null,
   "metadata": {},
   "outputs": [],
   "source": [
    "import calendar\n",
    "from datetime import date\n",
    "def monthdelta(date, delta):\n",
    "    m, y = (date.month+delta) % 12, date.year + ((date.month)+delta-1) // 12\n",
    "    if not m: m = 12\n",
    "    d = min(date.day, calendar.monthrange(y, m)[1])\n",
    "    return date.replace(day=d,month=m, year=y)\n",
    "next_month = monthdelta(date.today(), 1) #datetime.date(2016, 10, 23)"
   ]
  },
  {
   "attachments": {},
   "cell_type": "markdown",
   "metadata": {},
   "source": [
    "Using the dateutils module"
   ]
  },
  {
   "cell_type": "code",
   "execution_count": null,
   "metadata": {},
   "outputs": [],
   "source": [
    "import datetime\n",
    "import dateutil.relativedelta\n",
    "\n",
    "d = datetime.datetime.strptime(\"2013-03-31\", \"%Y-%m-%d\")\n",
    "d2 = d - dateutil.relativedelta.relativedelta(months=1) #datetime.datetime(2013, 2, 28, 0, 0)"
   ]
  },
  {
   "attachments": {},
   "cell_type": "markdown",
   "metadata": {},
   "source": [
    "## 5.9 Parsing an arbitrary ISO 8601 timestamp with minimal libraries."
   ]
  },
  {
   "attachments": {},
   "cell_type": "markdown",
   "metadata": {},
   "source": [
    "Python has only limited support for parsing ISO 8601 timestamps. For strptime you need to know exactly what format it is in. As a complication the stringification of a datetime is an ISO 8601 timestamp, with space as a separator and 6 digit fraction:"
   ]
  },
  {
   "cell_type": "code",
   "execution_count": null,
   "metadata": {},
   "outputs": [],
   "source": [
    "str(datetime.datetime(2016, 7, 22, 9, 25, 59, 555555))\n",
    "# '2016-07-22 09:25:59.555555'\n",
    "\n",
    "#but if the fraction is 0, no fractional part is output\n",
    "\n",
    "str(datetime.datetime(2016, 7, 22, 9, 25, 59, 0))\n",
    "# '2016-07-22 09:25:59'"
   ]
  },
  {
   "attachments": {},
   "cell_type": "markdown",
   "metadata": {},
   "source": [
    "But these 2 forms need a different format for strptime. Furthermore, strptime' does not support at all\n",
    "parsing minute timezones that have a:in it, thus2016-07-22 09:25:59+0300can be parsed, but the standard format2016-07-22 09:25:59+03:00` cannot.\n",
    "\n",
    "There is a single-file library called iso8601 which properly parses ISO 8601 timestamps and only them.\n",
    "\n",
    "It supports fractions and timezones, and the T separator all with a single function:"
   ]
  },
  {
   "cell_type": "code",
   "execution_count": null,
   "metadata": {},
   "outputs": [],
   "source": [
    "import iso8601\n",
    "iso8601.parse_date('2016-07-22 09:25:59')\n",
    "# datetime.datetime(2016, 7, 22, 9, 25, 59, tzinfo=<iso8601.Utc>)\n",
    "iso8601.parse_date('2016-07-22 09:25:59+03:00')\n",
    "# datetime.datetime(2016, 7, 22, 9, 25, 59, tzinfo=<FixedOffset '+03:00' ...>)\n",
    "iso8601.parse_date('2016-07-22 09:25:59Z')\n",
    "# datetime.datetime(2016, 7, 22, 9, 25, 59, tzinfo=<iso8601.Utc>)\n",
    "iso8601.parse_date('2016-07-22T09:25:59.000111+03:00')\n",
    "# datetime.datetime(2016, 7, 22, 9, 25, 59, 111, tzinfo=<FixedOffset '+03:00' ...>)"
   ]
  },
  {
   "attachments": {},
   "cell_type": "markdown",
   "metadata": {},
   "source": [
    "If no timezone is set, iso8601.parse_date defaults to UTC. The default zone can be changed with default_zone keyword argument. Notably, if this is None instead of the default, then those timestamps that do not have an explicit timezone are returned as naive datetimes instead:"
   ]
  },
  {
   "cell_type": "code",
   "execution_count": null,
   "metadata": {},
   "outputs": [],
   "source": [
    "iso8601.parse_date('2016-07-22T09:25:59', default_timezone=None)\n",
    "# datetime.datetime(2016, 7, 22, 9, 25, 59)\n",
    "iso8601.parse_date('2016-07-22T09:25:59Z', default_timezone=None)\n",
    "# datetime.datetime(2016, 7, 22, 9, 25, 59, tzinfo=<iso8601.Utc>)"
   ]
  },
  {
   "attachments": {},
   "cell_type": "markdown",
   "metadata": {},
   "source": [
    "## 5.10 Get an ISO 8601 timestamp"
   ]
  },
  {
   "attachments": {},
   "cell_type": "markdown",
   "metadata": {},
   "source": [
    "* No timezone, microseconds"
   ]
  },
  {
   "cell_type": "code",
   "execution_count": null,
   "metadata": {},
   "outputs": [],
   "source": [
    "from datetime import datetime\n",
    "datetime.now().isoformat()\n",
    "# Out: '2016-07-31T23:08:20.886783'"
   ]
  },
  {
   "attachments": {},
   "cell_type": "markdown",
   "metadata": {},
   "source": [
    "* Timezone, microseconds"
   ]
  },
  {
   "cell_type": "code",
   "execution_count": null,
   "metadata": {},
   "outputs": [],
   "source": [
    "from datetime import datetime\n",
    "from dateutil.tz import tzlocal\n",
    "datetime.now(tzlocal()).isoformat()\n",
    "# Out: '2016-07-31T23:09:43.535074-07:00'"
   ]
  },
  {
   "attachments": {},
   "cell_type": "markdown",
   "metadata": {},
   "source": [
    "* Timezone, no microseconds"
   ]
  },
  {
   "cell_type": "code",
   "execution_count": null,
   "metadata": {},
   "outputs": [],
   "source": [
    "from datetime import datetime\n",
    "from dateutil.tz import tzlocal\n",
    "datetime.now(tzlocal()).replace(microsecond=0).isoformat()\n",
    "# Out: '2016-07-31T23:10:30-07:00'"
   ]
  },
  {
   "attachments": {},
   "cell_type": "markdown",
   "metadata": {},
   "source": [
    "See: https://en.wikipedia.org/wiki/ISO_8601"
   ]
  },
  {
   "attachments": {},
   "cell_type": "markdown",
   "metadata": {},
   "source": [
    "## 5.11 Parsing a string with a short time zone name into a timezone aware datatime object"
   ]
  },
  {
   "attachments": {},
   "cell_type": "markdown",
   "metadata": {},
   "source": [
    "Using the dateutil library as in the previous example on parsing timezone-aware timestamps, it is also possible to parse timestamps with a specified \"short\" time zone name.\n",
    "\n",
    "For dates formatted with short time zone names or abbreviations, which are generally ambiguous (e.g. CST, which could be Central Standard Time, China Standard Time, Cuba Standard Time, etc - more can be found here) or not necessarily available in a standard database, it is necessary to specify a mapping between time zone abbreviation and tzinfo object."
   ]
  },
  {
   "cell_type": "code",
   "execution_count": null,
   "metadata": {},
   "outputs": [],
   "source": [
    "from dateutil import tz\n",
    "from dateutil.parser import parse\n",
    "ET = tz.gettz('US/Eastern')\n",
    "CT = tz.gettz('US/Central')\n",
    "MT = tz.gettz('US/Mountain')\n",
    "PT = tz.gettz('US/Pacific')\n",
    "us_tzinfos = {'CST': CT, 'CDT': CT,\n",
    "    'EST': ET, 'EDT': ET,\n",
    "    'MST': MT, 'MDT': MT,\n",
    "    'PST': PT, 'PDT': PT}\n",
    "dt_est = parse('2014-01-02 04:00:00 EST', tzinfos=us_tzinfos)\n",
    "dt_pst = parse('2016-03-11 16:00:00 PST', tzinfos=us_tzinfos)"
   ]
  },
  {
   "attachments": {},
   "cell_type": "markdown",
   "metadata": {},
   "source": [
    "After running this:"
   ]
  },
  {
   "cell_type": "code",
   "execution_count": null,
   "metadata": {},
   "outputs": [],
   "source": [
    "dt_est\n",
    "# datetime.datetime(2014, 1, 2, 4, 0, tzinfo=tzfile('/usr/share/zoneinfo/US/Eastern'))\n",
    "dt_pst\n",
    "# datetime.datetime(2016, 3, 11, 16, 0, tzinfo=tzfile('/usr/share/zoneinfo/US/Pacific'))"
   ]
  },
  {
   "attachments": {},
   "cell_type": "markdown",
   "metadata": {},
   "source": [
    "It is worth noting that if using a pytz time zone with this method, it will not be properly localized:"
   ]
  },
  {
   "cell_type": "code",
   "execution_count": null,
   "metadata": {},
   "outputs": [],
   "source": [
    "from dateutil.parser import parse\n",
    "import pytz\n",
    "EST = pytz.timezone('America/New_York')\n",
    "dt = parse('2014-02-03 09:17:00 EST', tzinfos={'EST': EST})"
   ]
  },
  {
   "attachments": {},
   "cell_type": "markdown",
   "metadata": {},
   "source": [
    "This simply attaches the pytz time zone to the datetime:"
   ]
  },
  {
   "cell_type": "code",
   "execution_count": null,
   "metadata": {},
   "outputs": [],
   "source": [
    "dt.tzinfo # Will be in Local Mean Time!\n",
    "# <DstTzInfo 'America/New_York' LMT-1 day, 19:04:00 STD>"
   ]
  },
  {
   "attachments": {},
   "cell_type": "markdown",
   "metadata": {},
   "source": [
    "If using this method, you should probably re-localize the naive portion of the datetime after parsing:"
   ]
  },
  {
   "cell_type": "code",
   "execution_count": null,
   "metadata": {},
   "outputs": [],
   "source": [
    "dt_fixed = dt.tzinfo.localize(dt.replace(tzinfo=None))\n",
    "dt_fixed.tzinfo # Now it's EST.\n",
    "# <DstTzInfo 'America/New_York' EST-1 day, 19:00:00 STD>)"
   ]
  },
  {
   "attachments": {},
   "cell_type": "markdown",
   "metadata": {},
   "source": [
    "## 5.12 Fuzzy datetime parsing (extracting atetime out of a text)"
   ]
  },
  {
   "attachments": {},
   "cell_type": "markdown",
   "metadata": {},
   "source": [
    "It is possible to extract a date out of a text using the dateutil parser in a \"fuzzy\" mode, where components of the string not recognized as being part of a date are ignored."
   ]
  },
  {
   "cell_type": "code",
   "execution_count": null,
   "metadata": {},
   "outputs": [],
   "source": [
    "from dateutil.parser import parse\n",
    "\n",
    "dt = parse(\"Today is January 1, 2047 at 8:21:00AM\", fuzzy=True)\n",
    "print(dt)"
   ]
  },
  {
   "attachments": {},
   "cell_type": "markdown",
   "metadata": {},
   "source": [
    "dt is now a datetime object and you would see datetime.datetime(2047, 1, 1, 8, 21) printed."
   ]
  },
  {
   "attachments": {},
   "cell_type": "markdown",
   "metadata": {},
   "source": [
    "## 5.13 Iterate over dates"
   ]
  },
  {
   "attachments": {},
   "cell_type": "markdown",
   "metadata": {},
   "source": [
    "Sometimes you want to iterate over a range of dates from a start date to some end date. You can do it using\n",
    "datetime library and timedelta object:"
   ]
  },
  {
   "cell_type": "code",
   "execution_count": null,
   "metadata": {},
   "outputs": [],
   "source": [
    "import datetime\n",
    "\n",
    "# The size of each step in days\n",
    "day_delta = datetime.timedelta(days=1)\n",
    "\n",
    "start_date = datetime.date.today()\n",
    "end_date = start_date + 7*day_delta\n",
    "\n",
    "for i in range((end_date - start_date).days):\n",
    "    print(start_date + i*day_delta)\n",
    "\n",
    "\"\"\"\n",
    "Which produces:\n",
    "\n",
    "2016-07-21\n",
    "2016-07-22\n",
    "2016-07-23\n",
    "2016-07-24\n",
    "2016-07-25\n",
    "2016-07-26\n",
    "2016-07-27\n",
    "\"\"\""
   ]
  }
 ],
 "metadata": {
  "language_info": {
   "name": "python"
  },
  "orig_nbformat": 4
 },
 "nbformat": 4,
 "nbformat_minor": 2
}
