{
 "cells": [
  {
   "attachments": {},
   "cell_type": "markdown",
   "metadata": {},
   "source": [
    "# Simple Mathematical Operators"
   ]
  },
  {
   "attachments": {},
   "cell_type": "markdown",
   "metadata": {},
   "source": [
    "**Numerical types and their metaclasses** \n",
    "\n",
    "The numbers module contains the abstract metaclasses for the numerical types:"
   ]
  },
  {
   "attachments": {},
   "cell_type": "markdown",
   "metadata": {},
   "source": [
    "| subclasses         | numbers.Number | numbers.Integral | numbers.Rational | numbers.Real | numbers.Complex |\n",
    "|--------------------|----------------|------------------|------------------|--------------|-----------------|\n",
    "| bool               |      **✓**     |       **✓**      |       **✓**      |     **✓**    |      **✓**      |\n",
    "| int                |      **✓**     |       **✓**      |       **✓**      |     **✓**    |      **✓**      |\n",
    "| fractions.Fraction |      **✓**     |       **-**      |       **✓**      |     **✓**    |      **✓**      |\n",
    "| float              |      **✓**     |       **-**      |       **-**      |     **✓**    |      **✓**      |\n",
    "| complex            |      **✓**     |       **-**      |       **-**      |     **-**    |      **✓**      |\n",
    "| decimal.Decimal    |      **✓**     |       **-**      |       **-**      |     **-**    |      **-**      |"
   ]
  },
  {
   "attachments": {},
   "cell_type": "markdown",
   "metadata": {},
   "source": [
    "Python does common mathematical operators on its own, including integer and float division, multiplication, exponentiation, addition, and subtraction. The math module (included in all standard Python versions) offers expanded functionality like trigonometric functions, root operations, logarithms, and many more."
   ]
  },
  {
   "attachments": {},
   "cell_type": "markdown",
   "metadata": {},
   "source": [
    "## 9.1 Division"
   ]
  },
  {
   "attachments": {},
   "cell_type": "markdown",
   "metadata": {},
   "source": [
    "Python does integer division when both operands are integers. The behavior of Python's division operators have\n",
    "changed from Python 2.x and 3.x (see also Integer Division )."
   ]
  },
  {
   "cell_type": "code",
   "execution_count": null,
   "metadata": {},
   "outputs": [],
   "source": [
    "a, b, c, d, e = 3, 2, 2.0, -3, 10"
   ]
  },
  {
   "attachments": {},
   "cell_type": "markdown",
   "metadata": {},
   "source": [
    "In Python 3 the / operator performs 'true' division regardless of types. The // operator performs floor division and maintains type."
   ]
  },
  {
   "cell_type": "code",
   "execution_count": null,
   "metadata": {},
   "outputs": [],
   "source": [
    "a / b # = 1.5\n",
    "e / b # = 5.0\n",
    "a // b # = 1\n",
    "a // c # = 1.0\n",
    "\n",
    "import operator # the operator module provides 2-argument arithmetic functions\n",
    "operator.truediv(a, b) # = 1.5\n",
    "operator.floordiv(a, b) # = 1\n",
    "operator.floordiv(a, c) # = 1.0"
   ]
  },
  {
   "attachments": {},
   "cell_type": "markdown",
   "metadata": {},
   "source": [
    "Possible combinations (builtin types):\n",
    "\n",
    "* int and int (gives an int in Python 2 and a float in Python 3)\n",
    "* int and float (gives a float)\n",
    "* int and complex (gives a complex)\n",
    "* float and float (gives a float)\n",
    "* float and complex (gives a complex)\n",
    "* complex and complex (gives a complex)"
   ]
  },
  {
   "attachments": {},
   "cell_type": "markdown",
   "metadata": {},
   "source": [
    "## 9.2 Addition"
   ]
  },
  {
   "cell_type": "code",
   "execution_count": null,
   "metadata": {},
   "outputs": [],
   "source": [
    "a, b = 1, 2\n",
    "# Using the \"+\" operator:\n",
    "a + b # = 3\n",
    "\n",
    "# Using the \"in-place\" \"+=\" operator to add and assign:\n",
    "a += b # a = 3 (equivalent to a = a + b)\n",
    "\n",
    "import operator # contains 2 argument arithmetic functions for the examples\n",
    "\n",
    "operator.add(a, b) # = 5 since a is set to 3 right before this line\n",
    "\n",
    "# The \"+=\" operator is equivalent to:\n",
    "a = operator.iadd(a, b) # a = 5 since a is set to 3 right before this line"
   ]
  },
  {
   "attachments": {},
   "cell_type": "markdown",
   "metadata": {},
   "source": [
    "Possible combinations (builtin types):\n",
    "\n",
    "* int and int (gives an int)\n",
    "* int and float (gives a float)\n",
    "* int and complex (gives a complex)\n",
    "* float and float (gives a float)\n",
    "* float and complex (gives a complex)\n",
    "* complex and complex (gives a complex)"
   ]
  },
  {
   "attachments": {},
   "cell_type": "markdown",
   "metadata": {},
   "source": [
    "**Note**: the + operator is also used for concatenating strings, lists and tuples:\n"
   ]
  },
  {
   "cell_type": "code",
   "execution_count": null,
   "metadata": {},
   "outputs": [],
   "source": [
    "\"first string \" + \"second string\" # = 'first string second string'\n",
    "[1, 2, 3] + [4, 5, 6] # = [1, 2, 3, 4, 5, 6]"
   ]
  },
  {
   "attachments": {},
   "cell_type": "markdown",
   "metadata": {},
   "source": [
    "## 9.3 Exponentiation"
   ]
  },
  {
   "cell_type": "code",
   "execution_count": null,
   "metadata": {},
   "outputs": [],
   "source": [
    "a, b = 2, 3\n",
    "\n",
    "(a ** b) # = 8\n",
    "pow(a, b) # = 8\n",
    "\n",
    "import math\n",
    "math.pow(a, b) # = 8.0 (always float; does not allow complex results)\n",
    "\n",
    "import operator\n",
    "operator.pow(a, b) # = 8"
   ]
  },
  {
   "attachments": {},
   "cell_type": "markdown",
   "metadata": {},
   "source": [
    "Another difference between the built-in pow and math.pow is that the built-in pow can accept three arguments:"
   ]
  },
  {
   "cell_type": "code",
   "execution_count": null,
   "metadata": {},
   "outputs": [],
   "source": [
    "a, b, c = 2, 3, 2\n",
    "\n",
    "pow(2, 3, 2) # 0, calculates (2 ** 3) % 2, but as per Python docs,\n",
    "# does so more efficiently"
   ]
  },
  {
   "attachments": {},
   "cell_type": "markdown",
   "metadata": {},
   "source": [
    "**Special functions**\n",
    "\n",
    "The function math.sqrt(x) calculates the square root of x."
   ]
  },
  {
   "cell_type": "code",
   "execution_count": null,
   "metadata": {},
   "outputs": [],
   "source": [
    "import math\n",
    "import cmath\n",
    "\n",
    "c = 4\n",
    "\n",
    "math.sqrt(c) # = 2.0 (always float; does not allow complex results)\n",
    "cmath.sqrt(c) # = (2+0j) (always complex)"
   ]
  },
  {
   "attachments": {},
   "cell_type": "markdown",
   "metadata": {},
   "source": [
    "To compute other roots, such as a cube root, raise the number to the reciprocal of the degree of the root. This could be done with any of the exponential functions or operator."
   ]
  },
  {
   "cell_type": "code",
   "execution_count": null,
   "metadata": {},
   "outputs": [],
   "source": [
    "import math\n",
    "\n",
    "x = 8\n",
    "math.pow(x, 1/3) # evaluates to 2.0\n",
    "x**(1/3) # evaluates to 2.0"
   ]
  },
  {
   "attachments": {},
   "cell_type": "markdown",
   "metadata": {},
   "source": [
    "The function math.exp(x) computes e ** x."
   ]
  },
  {
   "cell_type": "code",
   "execution_count": null,
   "metadata": {},
   "outputs": [],
   "source": [
    "math.exp(0) # 1.0\n",
    "math.exp(1) # 2.718281828459045 (e)"
   ]
  },
  {
   "attachments": {},
   "cell_type": "markdown",
   "metadata": {},
   "source": [
    "The function math.expm1(x) computes e ** x - 1. When x is small, this gives significantly better precision than <br> math.exp(x) - 1.\n"
   ]
  },
  {
   "cell_type": "code",
   "execution_count": null,
   "metadata": {},
   "outputs": [],
   "source": [
    "math.expm1(0) # 0.0\n",
    "math.exp(1e-6) - 1 # 1.0000004999621837e-06\n",
    "math.expm1(1e-6) # 1.0000005000001665e-06\n",
    "# exact result # 1.000000500000166666708333341666..."
   ]
  },
  {
   "attachments": {},
   "cell_type": "markdown",
   "metadata": {},
   "source": [
    "## 9.4 Trigonometric Functions"
   ]
  },
  {
   "cell_type": "code",
   "execution_count": null,
   "metadata": {},
   "outputs": [],
   "source": [
    "a, b = 1, 2\n",
    "\n",
    "import math\n",
    "\n",
    "math.sin(a) # returns the sine of 'a' in radians\n",
    "# Out: 0.8414709848078965\n",
    "\n",
    "math.cosh(b) # returns the inverse hyperbolic cosine of 'b' in radians\n",
    "# Out: 3.7621956910836314\n",
    "\n",
    "math.atan(math.pi) # returns the arc tangent of 'pi' in radians\n",
    "# Out: 1.2626272556789115\n",
    "\n",
    "math.hypot(a, b) # returns he Euclidean norm, same as math.sqrt(a*a + b*b)\n",
    "# Out: 2.23606797749979"
   ]
  },
  {
   "attachments": {},
   "cell_type": "markdown",
   "metadata": {},
   "source": [
    "Note that math.hypot(x, y) is also the length of the vector (or Euclidean distance) from the origin (0, 0)\n",
    "to the point (x, y).\n",
    "\n",
    "To compute the Euclidean distance between two points (x1, y1) & (x2, y2) you can use math.hypot as\n",
    "follows\n",
    "math.hypot(x2-x1, y2-y1)"
   ]
  },
  {
   "attachments": {},
   "cell_type": "markdown",
   "metadata": {},
   "source": [
    "To convert from radians -> degrees and degrees -> radians respectively use math.degrees and math.radians"
   ]
  },
  {
   "cell_type": "code",
   "execution_count": null,
   "metadata": {},
   "outputs": [],
   "source": [
    "math.degrees(a)\n",
    "# Out: 57.29577951308232\n",
    "\n",
    "math.radians(57.29577951308232)\n",
    "# Out: 1.0"
   ]
  },
  {
   "attachments": {},
   "cell_type": "markdown",
   "metadata": {},
   "source": [
    "## 9.5 Inplace Operations"
   ]
  },
  {
   "attachments": {},
   "cell_type": "markdown",
   "metadata": {},
   "source": [
    "It is common within applications to need to have code like this:"
   ]
  },
  {
   "cell_type": "code",
   "execution_count": null,
   "metadata": {},
   "outputs": [],
   "source": [
    "a = a + 1\n",
    "#or\n",
    "a = a * 2"
   ]
  },
  {
   "attachments": {},
   "cell_type": "markdown",
   "metadata": {},
   "source": [
    "There is an effective shortcut for these in place operations:"
   ]
  },
  {
   "cell_type": "code",
   "execution_count": null,
   "metadata": {},
   "outputs": [],
   "source": [
    "a += 1\n",
    "# and\n",
    "a *= 2"
   ]
  },
  {
   "attachments": {},
   "cell_type": "markdown",
   "metadata": {},
   "source": [
    "Any mathematic operator can be used before the '=' character to make an inplace operation:\n",
    "\n",
    "* -= decrement the variable in place\n",
    "* += increment the variable in place\n",
    "* *= multiply the variable in place\n",
    "* /= divide the variable in place\n",
    "* //= floor divide the variable in place # Python 3\n",
    "* %= return the modulus of the variable in place\n",
    "* **= raise to a power in place\n",
    "\n",
    "Other in place operators exist for the bitwise operators (^, | etc)"
   ]
  },
  {
   "attachments": {},
   "cell_type": "markdown",
   "metadata": {},
   "source": [
    "## 9.6 Substraction"
   ]
  },
  {
   "cell_type": "code",
   "execution_count": null,
   "metadata": {},
   "outputs": [],
   "source": [
    "a, b = 1, 2\n",
    "\n",
    "# Using the \"-\" operator:\n",
    "b - a # = 1\n",
    "\n",
    "import operator # contains 2 argument arithmetic functions\n",
    "operator.sub(b, a) # = 1"
   ]
  },
  {
   "attachments": {},
   "cell_type": "markdown",
   "metadata": {},
   "source": [
    "Possible combinations (builtin types):\n",
    "\n",
    "*    int and int (gives an int)\n",
    " *   int and float (gives a float)\n",
    "  *  int and complex (gives a complex)\n",
    "   * float and float (gives a float)\n",
    "    * float and complex (gives a complex)\n",
    "    * complex and complex (gives a complex)"
   ]
  },
  {
   "attachments": {},
   "cell_type": "markdown",
   "metadata": {},
   "source": [
    "## 9.7 Multiplication"
   ]
  },
  {
   "cell_type": "code",
   "execution_count": null,
   "metadata": {},
   "outputs": [],
   "source": [
    "a, b = 2, 3\n",
    "\n",
    "a * b # = 6\n",
    "\n",
    "import operator\n",
    "operator.mul(a, b) # = 6"
   ]
  },
  {
   "attachments": {},
   "cell_type": "markdown",
   "metadata": {},
   "source": [
    "Possible combinations (builtin types):\n",
    "\n",
    "* int and int (gives an int)\n",
    "* int and float (gives a float)\n",
    "* int and complex (gives a complex)\n",
    "* float and float (gives a float)\n",
    "* float and complex (gives a complex)\n",
    "* complex and complex (gives a complex)"
   ]
  },
  {
   "attachments": {},
   "cell_type": "markdown",
   "metadata": {},
   "source": [
    "**Note**: The * operator is also used for repeated concatenation of strings, lists, and tuples:"
   ]
  },
  {
   "cell_type": "code",
   "execution_count": null,
   "metadata": {},
   "outputs": [],
   "source": [
    "3 * 'ab' # = 'ababab'\n",
    "3 * ('a', 'b') # = ('a', 'b', 'a', 'b', 'a', 'b')"
   ]
  },
  {
   "attachments": {},
   "cell_type": "markdown",
   "metadata": {},
   "source": [
    "## 9.8 Logarithms"
   ]
  },
  {
   "attachments": {},
   "cell_type": "markdown",
   "metadata": {},
   "source": [
    "By default, the math.log function calculates the logarithm of a number, base e. You can optionally specify a base as\n",
    "the second argument."
   ]
  },
  {
   "cell_type": "code",
   "execution_count": null,
   "metadata": {},
   "outputs": [],
   "source": [
    "import math\n",
    "import cmath\n",
    "\n",
    "math.log(5) # = 1.6094379124341003\n",
    "# optional base argument. Default is math.e\n",
    "math.log(5, math.e) # = 1.6094379124341003\n",
    "cmath.log(5) # = (1.6094379124341003+0j)\n",
    "math.log(1000, 10) # 3.0 (always returns float)\n",
    "cmath.log(1000, 10) # (3+0j)"
   ]
  },
  {
   "attachments": {},
   "cell_type": "markdown",
   "metadata": {},
   "source": [
    "Special variations of the math.log function exist for different bases."
   ]
  },
  {
   "cell_type": "code",
   "execution_count": null,
   "metadata": {},
   "outputs": [],
   "source": [
    "# Logarithm base e - 1 (higher precision for low values)\n",
    "math.log1p(5) # = 1.791759469228055\n",
    "\n",
    "# Logarithm base 2\n",
    "math.log2(8) # = 3.0\n",
    "\n",
    "# Logarithm base 10\n",
    "math.log10(100) # = 2.0\n",
    "cmath.log10(100) # = (2+0j)"
   ]
  },
  {
   "attachments": {},
   "cell_type": "markdown",
   "metadata": {},
   "source": [
    "## 9.9 Modulus"
   ]
  },
  {
   "attachments": {},
   "cell_type": "markdown",
   "metadata": {},
   "source": [
    "Like in many other languages, Python uses the % operator for calculating modulus."
   ]
  },
  {
   "cell_type": "code",
   "execution_count": null,
   "metadata": {},
   "outputs": [],
   "source": [
    "3 % 4 # 3\n",
    "10 % 2 # 0\n",
    "6 % 4 # 2"
   ]
  },
  {
   "attachments": {},
   "cell_type": "markdown",
   "metadata": {},
   "source": [
    "Or by using the operator module:"
   ]
  },
  {
   "cell_type": "code",
   "execution_count": null,
   "metadata": {},
   "outputs": [],
   "source": [
    "import operator\n",
    "\n",
    "operator.mod(3 , 4) # 3\n",
    "operator.mod(10 , 2) # 0\n",
    "operator.mod(6 , 4) # 2"
   ]
  },
  {
   "attachments": {},
   "cell_type": "markdown",
   "metadata": {},
   "source": [
    "You can also use negative numbers."
   ]
  },
  {
   "cell_type": "code",
   "execution_count": null,
   "metadata": {},
   "outputs": [],
   "source": [
    "-9 % 7 # 5\n",
    "9 % -7 # -5\n",
    "-9 % -7 # -2"
   ]
  },
  {
   "attachments": {},
   "cell_type": "markdown",
   "metadata": {},
   "source": [
    "If you need to find the result of integer division and modulus, you can use the divmod function as a shortcut:"
   ]
  },
  {
   "cell_type": "code",
   "execution_count": null,
   "metadata": {},
   "outputs": [],
   "source": [
    "quotient, remainder = divmod(9, 4)\n",
    "# quotient = 2, remainder = 1 as 4 * 2 + 1 == 9"
   ]
  }
 ],
 "metadata": {
  "language_info": {
   "name": "python"
  },
  "orig_nbformat": 4
 },
 "nbformat": 4,
 "nbformat_minor": 2
}
