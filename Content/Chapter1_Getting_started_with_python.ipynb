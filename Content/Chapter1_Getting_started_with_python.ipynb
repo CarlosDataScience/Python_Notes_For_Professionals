{
 "cells": [
  {
   "attachments": {},
   "cell_type": "markdown",
   "metadata": {},
   "source": [
    "# Getting started with Python Language"
   ]
  },
  {
   "attachments": {},
   "cell_type": "markdown",
   "metadata": {},
   "source": [
    "Python is a widely used high-level programming language for general-purpose programming, created by Guido van\n",
    "Rossum and first released in 1991. Python features a dynamic type system and automatic memory management\n",
    "and supports multiple programming paradigms, including object-oriented, imperative, functional programming,\n",
    "and procedural styles. It has a large and comprehensive standard library."
   ]
  },
  {
   "cell_type": "code",
   "execution_count": null,
   "metadata": {},
   "outputs": [],
   "source": [
    "#Verify if Python is installed in command prompt\n",
    "# python --version"
   ]
  },
  {
   "cell_type": "code",
   "execution_count": null,
   "metadata": {},
   "outputs": [],
   "source": [
    "#Hello World in Python\n",
    "print(\"Hello World\")\n",
    "\n",
    "#You can create a hello.py with the previous line and execute in tyhe comand promt with: python hello.py"
   ]
  },
  {
   "attachments": {},
   "cell_type": "markdown",
   "metadata": {},
   "source": [
    "## 1.1 Shells and Beyond\n"
   ]
  },
  {
   "attachments": {},
   "cell_type": "markdown",
   "metadata": {},
   "source": [
    "* Package Management - The PyPA recommended tool for installing Python packages is PIP. To install, on your command line execute pip install < the package name >. For instance, pip install numpy. (Note: On windows you must add pip to your PATH environment variables. To avoid this, use python -m pip install < the package name >)\n",
    "\n",
    "* Shells - So far, we have discussed different ways to run code using Python's native interactive shell. Shells use Python's interpretive power for experimenting with code real-time. Alternative shells include IDLE - a pre-bundled GUI, IPython - known for extending the interactive experience, etc.\n",
    "\n",
    "* Programs - For long-term storage you can save content to .py files and edit/execute them as scripts or programs with external tools e.g. shell, IDEs (such as PyCharm), Jupyter notebooks, etc. Intermediate users may use these tools; however, the methods discussed here are sufficient for getting started.\n",
    "\n",
    "* Python tutor allows you to step through Python code so you can visualize how the program will flow, and helps you to understand where your program went wrong.\n",
    "\n",
    "* PEP8 defines guidelines for formatting Python code. Formatting code well is important so you can quickly read what the code does."
   ]
  },
  {
   "attachments": {},
   "cell_type": "markdown",
   "metadata": {},
   "source": [
    "## 1.2 Creating variables and assigning values\n",
    "\n"
   ]
  },
  {
   "attachments": {},
   "cell_type": "markdown",
   "metadata": {},
   "source": [
    "All you need to do is specify the variable name:\n",
    "\n",
    "< variable name > = < value >"
   ]
  },
  {
   "cell_type": "code",
   "execution_count": null,
   "metadata": {},
   "outputs": [],
   "source": [
    "# Integer\n",
    "a = 2\n",
    "print(a)\n",
    "# Output: 2\n",
    "# Integer\n",
    "b = 9223372036854775807\n",
    "print(b)\n",
    "# Output: 9223372036854775807\n",
    "# Floating point\n",
    "pi = 3.14\n",
    "print(pi)\n",
    "# Output: 3.14\n",
    "# String\n",
    "c = 'A'\n",
    "print(c)\n",
    "# Output: A\n",
    "# String\n",
    "name = 'John Doe'\n",
    "print(name)\n",
    "# Output: John Doe\n",
    "# Boolean\n",
    "q = True\n",
    "print(q)\n",
    "# Output: True\n",
    "# Empty value or null data type\n",
    "x = None\n",
    "print(x)\n",
    "# Output: None"
   ]
  },
  {
   "cell_type": "code",
   "execution_count": null,
   "metadata": {},
   "outputs": [],
   "source": [
    "#Variable assignment works from left to right. So the following will give you an syntax error.\n",
    "# 0 = x\n",
    "#Output: SyntaxError: can't assign to literal"
   ]
  },
  {
   "attachments": {},
   "cell_type": "markdown",
   "metadata": {},
   "source": [
    "You can not use python's keywords as a valid variable name!! You can see the list of keyword by:\n",
    "\n",
    "import keyword\n",
    "print(keyword.kwlist)\n",
    "\n",
    "More rules:"
   ]
  },
  {
   "cell_type": "code",
   "execution_count": null,
   "metadata": {},
   "outputs": [],
   "source": [
    "#Rule 1 Variables names must start with a letter or an underscore.\n",
    "\n",
    "x = True # valid\n",
    "_y = True # valid\n",
    "\n",
    "\"\"\" \n",
    "9x = False # starts with numeral\n",
    "=> SyntaxError: invalid syntax\n",
    "\n",
    "$y = False # starts with symbol\n",
    "=> SyntaxError: invalid syntax\n",
    "\"\"\"\n"
   ]
  },
  {
   "cell_type": "code",
   "execution_count": null,
   "metadata": {},
   "outputs": [],
   "source": [
    "#Rule 2 The remainder of your variable name may consist of letters, numbers and underscores.\n",
    "\n",
    "has_0_in_it = \"Still Valid\""
   ]
  },
  {
   "cell_type": "code",
   "execution_count": null,
   "metadata": {},
   "outputs": [],
   "source": [
    "#Rule 3 Names are case sensitive\n",
    "\n",
    "x = 9\n",
    "y = X*5\n",
    "# =>NameError: name 'X' is not defined (use 'x')"
   ]
  },
  {
   "attachments": {},
   "cell_type": "markdown",
   "metadata": {},
   "source": [
    "Even though there's no need to specify a data type when declaring a variable in Python, while allocating the\n",
    "necessary area in memory for the variable, the Python interpreter automatically picks the most suitable built-in\n",
    "type for it:"
   ]
  },
  {
   "cell_type": "code",
   "execution_count": null,
   "metadata": {},
   "outputs": [],
   "source": [
    "a = 2\n",
    "print(type(a))\n",
    "# Output: <type 'int'>\n",
    "\n",
    "b = 9223372036854775807\n",
    "print(type(b))\n",
    "# Output: <type 'int'>\n",
    "\n",
    "pi = 3.14\n",
    "print(type(pi))\n",
    "# Output: <type 'float'>\n",
    "\n",
    "c = 'A'\n",
    "print(type(c))\n",
    "# Output: <type 'str'>\n",
    "\n",
    "name = 'John Doe'\n",
    "print(type(name))\n",
    "# Output: <type 'str'>\n",
    "\n",
    "q = True\n",
    "print(type(q))\n",
    "# Output: <type 'bool'>\n",
    "\n",
    "x = None\n",
    "print(type(x))\n",
    "# Output: <type 'NoneType'>\n"
   ]
  },
  {
   "attachments": {},
   "cell_type": "markdown",
   "metadata": {},
   "source": [
    "You can assign multiple values to multiple variables in one line. Note that there must be the same number of\n",
    "arguments on the right and left sides of the = operator:"
   ]
  },
  {
   "cell_type": "code",
   "execution_count": null,
   "metadata": {},
   "outputs": [],
   "source": [
    "a, b, c = 1, 2, 3\n",
    "print(a, b, c)\n",
    "# Output: 1 2 3\n",
    "\n",
    "\"\"\"\n",
    "a, b, c = 1, 2\n",
    "=> Traceback (most recent call last):\n",
    "=> File \"name.py\", line N, in <module>\n",
    "=> a, b, c = 1, 2\n",
    "=> ValueError: need more than 2 values to unpack\n",
    "\n",
    "a, b = 1, 2, 3\n",
    "=> Traceback (most recent call last):\n",
    "=> File \"name.py\", line N, in <module>\n",
    "=> a, b = 1, 2, 3\n",
    "=> ValueError: too many values to unpack\n",
    "\n",
    "\"\"\"\n",
    "\n",
    "a, b, _ = 1, 2, 3\n",
    "print(a, b)\n",
    "# Output: 1, 2\n",
    "\n",
    "\"\"\"\n",
    "\n",
    "a, b, _ = 1,2,3,4\n",
    "=>Traceback (most recent call last):\n",
    "=>File \"name.py\", line N, in <module>\n",
    "=>a, b, _ = 1,2,3,4\n",
    "=>ValueError: too many values to unpack (expected 3)\n",
    "\n",
    "\"\"\"\n"
   ]
  },
  {
   "cell_type": "code",
   "execution_count": null,
   "metadata": {},
   "outputs": [],
   "source": [
    "a = b = c = 1\n",
    "print(a, b, c)\n",
    "# Output: 1 1 1\n",
    "\n",
    "a = b = c = 1 # all three names a, b and c refer to same int object with value 1\n",
    "print(a, b, c)\n",
    "# Output: 1 1 1\n",
    "\n",
    "b = 2 # b now refers to another int object, one with a value of 2\n",
    "print(a, b, c)\n",
    "# Output: 1 2 1 # so output is as expected.\n",
    "\n",
    "\n"
   ]
  },
  {
   "attachments": {},
   "cell_type": "markdown",
   "metadata": {},
   "source": [
    "The above is also true for mutable types (like list, dict, etc.) just as it is true for immutable types (like int, string,\n",
    "tuple, etc.):"
   ]
  },
  {
   "cell_type": "code",
   "execution_count": null,
   "metadata": {},
   "outputs": [],
   "source": [
    "x = y = [7, 8, 9] # x and y refer to the same list object just created, [7, 8, 9]\n",
    "x = [13, 8, 9] # x now refers to a different list object just created, [13, 8, 9]\n",
    "print(y) # y still refers to the list it was first assigned\n",
    "# Output: [7, 8, 9]"
   ]
  },
  {
   "attachments": {},
   "cell_type": "markdown",
   "metadata": {},
   "source": [
    "So far so good. Things are a bit different when it comes to modifying the object (in contrast to assigning the name to\n",
    "a different object, which we did above) when the cascading assignment is used for mutable types. Take a look\n",
    "below, and you will see it first hand:"
   ]
  },
  {
   "cell_type": "code",
   "execution_count": null,
   "metadata": {},
   "outputs": [],
   "source": [
    "x = y = [7, 8, 9] # x and y are two different names for the same list object just created, [7,8, 9]\n",
    "x[0] = 13 # we are updating the value of the list [7, 8, 9] through one of its names, xin this case\n",
    "print(y) # printing the value of the list using its other name\n",
    "# Output: [13, 8, 9] # hence, naturally the change is reflected"
   ]
  },
  {
   "cell_type": "code",
   "execution_count": null,
   "metadata": {},
   "outputs": [],
   "source": [
    "#Nested lists are also valid in python. This means that a list can contain another list as an element.\n",
    "\n",
    "x = [1, 2, [3, 4, 5], 6, 7] # this is nested list\n",
    "print (x[2])\n",
    "# Output: [3, 4, 5]\n",
    "print (x[2][1])\n",
    "# Output: 4"
   ]
  },
  {
   "attachments": {},
   "cell_type": "markdown",
   "metadata": {},
   "source": [
    "Lastly, variables in Python do not have to stay the same type as which they were first defined -- you can simply use\n",
    "= to assign a new value to a variable, even if that value is of a different type."
   ]
  },
  {
   "cell_type": "code",
   "execution_count": null,
   "metadata": {},
   "outputs": [],
   "source": [
    "a = 2\n",
    "print(a)\n",
    "# Output: 2\n",
    "a = \"New value\"\n",
    "print(a)\n",
    "# Output: New value"
   ]
  },
  {
   "attachments": {},
   "cell_type": "markdown",
   "metadata": {},
   "source": [
    "## 1.3 Block Indentation\n",
    "\n"
   ]
  },
  {
   "attachments": {},
   "cell_type": "markdown",
   "metadata": {},
   "source": [
    "Python uses indentation to define control and loop constructs. This contributes to Python's readability, however, it requires the programmer to pay close attention to the use of whitespace. Thus, editor miscalibration could result in code that behaves in unexpected ways.\n",
    "\n",
    "Python uses the colon symbol (:) and indentation for showing where blocks of code begin and end (If you come from another language, do not confuse this with somehow being related to the ternary operator). That is, blocks in Python, such as functions, loops, if clauses and other constructs, have no ending identifiers. All blocks start with a colon and then contain the indented lines below it."
   ]
  },
  {
   "cell_type": "code",
   "execution_count": null,
   "metadata": {},
   "outputs": [],
   "source": [
    "def my_function(): # This is a function definition. Note the colon (:)\n",
    "    a = 2 # This line belongs to the function because it's indented\n",
    "    return a # This line also belongs to the same function\n",
    "print(my_function()) # This line is OUTSIDE the function block\n",
    "\n",
    "if a > b: # If block starts here\n",
    "    print(a) # This is part of the if block\n",
    "else: # else must be at the same level as if\n",
    "    print(b) # This line is part of the else block"
   ]
  },
  {
   "attachments": {},
   "cell_type": "markdown",
   "metadata": {},
   "source": [
    "Blocks that contain exactly one single-line statement may be put on the same line, though this form is generally not\n",
    "considered good style:"
   ]
  },
  {
   "cell_type": "code",
   "execution_count": null,
   "metadata": {},
   "outputs": [],
   "source": [
    "if a > b: print(a)\n",
    "else: print(b)"
   ]
  },
  {
   "attachments": {},
   "cell_type": "markdown",
   "metadata": {},
   "source": [
    "Attempting to do this with more than a single statement will not work:"
   ]
  },
  {
   "cell_type": "code",
   "execution_count": null,
   "metadata": {},
   "outputs": [],
   "source": [
    "if x > y: y = x\n",
    "    print(y) # IndentationError: unexpected indent\n",
    "if x > y: while y != z: y -= 1 # SyntaxError: invalid syntax"
   ]
  },
  {
   "attachments": {},
   "cell_type": "markdown",
   "metadata": {},
   "source": [
    "An empty block causes an IndentationError. Use pass (a command that does nothing) when you have a block with\n",
    "no content:"
   ]
  },
  {
   "cell_type": "code",
   "execution_count": null,
   "metadata": {},
   "outputs": [],
   "source": [
    "def will_be_implemented_later():\n",
    "    pass"
   ]
  },
  {
   "attachments": {},
   "cell_type": "markdown",
   "metadata": {},
   "source": [
    "**Spaces vs. Tabs**\n",
    "\n",
    "In short: always use 4 spaces for indentation.\n",
    "\n",
    "Using tabs exclusively is possible but PEP 8, the style guide for Python code, states that spaces are preferred.\n",
    "\n",
    "Many editors have \"tabs to spaces\" configuration. When configuring the editor, one should differentiate betweenthe tab character ('\\t') and the Tab key.\n",
    "\n",
    "The tab character should be configured to show 8 spaces, to match the language semantics - at least in caseswhen (accidental) mixed indentation is possible. Editors can also automatically convert the tab character to spaces.\n",
    "\n",
    "However, it might be helpful to configure the editor so that pressing the Tab key will insert 4 spaces, instead of inserting a tab character.\n",
    "\n",
    "Python source code written with a mix of tabs and spaces, or with non-standard number of indentation spaces can be made pep8-conformant using autopep8. (A less powerful alternative comes with most Python installations: reindent.py)"
   ]
  },
  {
   "attachments": {},
   "cell_type": "markdown",
   "metadata": {},
   "source": [
    "## 1.4 Datatypes\n",
    "\n"
   ]
  },
  {
   "attachments": {},
   "cell_type": "markdown",
   "metadata": {},
   "source": [
    "bool: A boolean value of either True or False. Logical operations like and, or, not can be performed on booleans."
   ]
  },
  {
   "cell_type": "code",
   "execution_count": null,
   "metadata": {},
   "outputs": [],
   "source": [
    "x or y # if x is False then y otherwise x\n",
    "x and y # if x is False then x otherwise y\n",
    "not x # if x is True then False, otherwise True"
   ]
  },
  {
   "cell_type": "code",
   "execution_count": null,
   "metadata": {},
   "outputs": [],
   "source": [
    "True + False == 1 # 1 + 0 == 1\n",
    "True * True == 1 # 1 * 1 == 1"
   ]
  },
  {
   "attachments": {},
   "cell_type": "markdown",
   "metadata": {},
   "source": [
    "int: Integer number"
   ]
  },
  {
   "cell_type": "code",
   "execution_count": null,
   "metadata": {},
   "outputs": [],
   "source": [
    "a = 2\n",
    "b = 100\n",
    "c = 123456789\n",
    "d = 38563846326424324"
   ]
  },
  {
   "attachments": {},
   "cell_type": "markdown",
   "metadata": {},
   "source": [
    "float: Floating point number; precision depends on the implementation and system architecture, for CPython the float datatype corresponds to a C double."
   ]
  },
  {
   "cell_type": "code",
   "execution_count": null,
   "metadata": {},
   "outputs": [],
   "source": [
    "a = 2.0\n",
    "b = 100.e0\n",
    "c = 123456789.e1"
   ]
  },
  {
   "attachments": {},
   "cell_type": "markdown",
   "metadata": {},
   "source": [
    "complex: Complex numbers\n",
    "\n",
    "The <, <=, > and >= operators will raise a TypeError exception when any operand is a complex number."
   ]
  },
  {
   "cell_type": "code",
   "execution_count": null,
   "metadata": {},
   "outputs": [],
   "source": [
    "a = 2 + 1j\n",
    "b = 100 + 10j"
   ]
  },
  {
   "attachments": {},
   "cell_type": "markdown",
   "metadata": {},
   "source": [
    "**Strings**\n",
    "\n",
    "str: a unicode string. The type of 'hello'\n",
    "\n",
    "bytes: a byte string. The type of b'hello'\n",
    "\n"
   ]
  },
  {
   "attachments": {},
   "cell_type": "markdown",
   "metadata": {},
   "source": [
    "**Sequences and collections**\n",
    "\n",
    "Python differentiates between ordered sequences and unordered collections (such as set and dict).\n",
    "\n",
    "strings (str, bytes, unicode) are sequences\n",
    "reversed: A reversed order of str with reversed function"
   ]
  },
  {
   "cell_type": "code",
   "execution_count": null,
   "metadata": {},
   "outputs": [],
   "source": [
    "a = reversed('hello')"
   ]
  },
  {
   "attachments": {},
   "cell_type": "markdown",
   "metadata": {},
   "source": [
    "tuple: An ordered collection of n values of any type (n >= 0).\n",
    "\n",
    "Supports indexing; immutable; hashable if all its members are hashable"
   ]
  },
  {
   "cell_type": "code",
   "execution_count": null,
   "metadata": {},
   "outputs": [],
   "source": [
    "a = (1, 2, 3)\n",
    "b = ('a', 1, 'python', (1, 2))\n",
    "b[2] = 'something else' # returns a TypeError"
   ]
  },
  {
   "attachments": {},
   "cell_type": "markdown",
   "metadata": {},
   "source": [
    "list: An ordered collection of n values (n >= 0)\n",
    "\n",
    "Not hashable; mutable."
   ]
  },
  {
   "cell_type": "code",
   "execution_count": null,
   "metadata": {},
   "outputs": [],
   "source": [
    "a = [1, 2, 3]\n",
    "b = ['a', 1, 'python', (1, 2), [1, 2]]\n",
    "b[2] = 'something else' # allowed"
   ]
  },
  {
   "attachments": {},
   "cell_type": "markdown",
   "metadata": {},
   "source": [
    "set: An unordered collection of unique values. Items must be hashable."
   ]
  },
  {
   "cell_type": "code",
   "execution_count": null,
   "metadata": {},
   "outputs": [],
   "source": [
    "a = {1, 2, 'a'}"
   ]
  },
  {
   "attachments": {},
   "cell_type": "markdown",
   "metadata": {},
   "source": [
    "dict: An unordered collection of unique key-value pairs; keys must be hashable."
   ]
  },
  {
   "cell_type": "code",
   "execution_count": null,
   "metadata": {},
   "outputs": [],
   "source": [
    "a = {1: 'one',\n",
    "2: 'two'}\n",
    "\n",
    "b = {'a': [1, 2, 3],\n",
    "'b': 'a string'}"
   ]
  },
  {
   "attachments": {},
   "cell_type": "markdown",
   "metadata": {},
   "source": [
    "NOTE\n",
    "\n",
    "An object is hashable if it has a hash value which never changes during its lifetime (it needs a __hash__()\n",
    "method), and can be compared to other objects (it needs an __eq__() method). Hashable objects which\n",
    "compare equality must have the same hash value."
   ]
  },
  {
   "attachments": {},
   "cell_type": "markdown",
   "metadata": {},
   "source": [
    "**Built-in constants**\n",
    "\n",
    "In conjunction with the built-in datatypes there are a small number of built-in constants in the built-in namespace:\n",
    "\n",
    "**True**: The true value of the built-in type bool\n",
    "\n",
    "**False**: The false value of the built-in type bool\n",
    "\n",
    "**None**: A singleton object used to signal that a value is absent.\n",
    "\n",
    "**Ellipsis or ...**: used in core Python3+ anywhere and limited usage in Python2.7+ as part of array notation. Numpy and related packages use this as a 'include everything' reference in arrays.\n",
    "\n",
    "**NotImplemented**: a singleton used to indicate to Python that a special method doesn't support the specific arguments, and Python will try alternatives if available."
   ]
  },
  {
   "attachments": {},
   "cell_type": "markdown",
   "metadata": {},
   "source": [
    "**None** doesn't have any natural ordering. Using ordering comparison operators (<, <=, >=, >) isn't supported anymore\n",
    "and will raise a TypeError."
   ]
  },
  {
   "cell_type": "code",
   "execution_count": null,
   "metadata": {},
   "outputs": [],
   "source": [
    "a = None # No value will be assigned. Any valid datatype can be assigned later"
   ]
  },
  {
   "attachments": {},
   "cell_type": "markdown",
   "metadata": {},
   "source": [
    "**Testing the type of variables**\n",
    "\n",
    "In python, we can check the datatype of an object using the built-in function type."
   ]
  },
  {
   "cell_type": "code",
   "execution_count": null,
   "metadata": {},
   "outputs": [],
   "source": [
    "a = '123'\n",
    "print(type(a))\n",
    "# Out: <class 'str'>\n",
    "\n",
    "b = 123\n",
    "print(type(b))\n",
    "# Out: <class 'int'>"
   ]
  },
  {
   "attachments": {},
   "cell_type": "markdown",
   "metadata": {},
   "source": [
    "In conditional statements it is possible to test the datatype with isinstance. However, it is usually not encouraged\n",
    "to rely on the type of the variable."
   ]
  },
  {
   "cell_type": "code",
   "execution_count": null,
   "metadata": {},
   "outputs": [],
   "source": [
    "i = 7\n",
    "if isinstance(i, int):\n",
    "    i += 1\n",
    "elif isinstance(i, str):\n",
    "    i = int(i)\n",
    "    i += 1"
   ]
  },
  {
   "attachments": {},
   "cell_type": "markdown",
   "metadata": {},
   "source": [
    "For information on the differences between type() and isinstance() read: https://stackoverflow.com/questions/1549801/what-are-the-differences-between-type-and-isinstance"
   ]
  },
  {
   "cell_type": "code",
   "execution_count": null,
   "metadata": {},
   "outputs": [],
   "source": [
    "#To test if something is of NoneType:\n",
    "\n",
    "x = None\n",
    "if x is None:\n",
    "    print('Not a surprise, I just defined x as None.')"
   ]
  },
  {
   "attachments": {},
   "cell_type": "markdown",
   "metadata": {},
   "source": [
    "**Converting between datatypes**\n",
    "\n",
    "You can perform explicit datatype conversion.\n",
    "\n",
    "For example, '123' is of str type and it can be converted to integer using int function."
   ]
  },
  {
   "cell_type": "code",
   "execution_count": null,
   "metadata": {},
   "outputs": [],
   "source": [
    "a = '123'\n",
    "b = int(a)"
   ]
  },
  {
   "cell_type": "code",
   "execution_count": null,
   "metadata": {},
   "outputs": [],
   "source": [
    "a = '123.456'\n",
    "b = float(a)\n",
    "c = int(a) # ValueError: invalid literal for int() with base 10: '123.456'\n",
    "d = int(b) # 123"
   ]
  },
  {
   "cell_type": "code",
   "execution_count": null,
   "metadata": {},
   "outputs": [],
   "source": [
    "a = 'hello'\n",
    "list(a) # ['h', 'e', 'l', 'l', 'o']\n",
    "set(a) # {'o', 'e', 'l', 'h'}\n",
    "tuple(a) # ('h', 'e', 'l', 'l', 'o')\n"
   ]
  },
  {
   "attachments": {},
   "cell_type": "markdown",
   "metadata": {},
   "source": [
    "**Explicit string type at definition of literals**\n",
    "\n",
    "With one letter labels just in front of the quotes you can tell what type of string you want to define.\n",
    "\n",
    "* b'foo bar': results bytes in Python 3.\n",
    "* u'foo bar': results str in Python 3.\n",
    "* 'foo bar': results str\n",
    "* r'foo bar': results so called raw string, where escaping special characters is not necessary, everything is taken verbatim as you typed."
   ]
  },
  {
   "cell_type": "code",
   "execution_count": null,
   "metadata": {},
   "outputs": [],
   "source": [
    "normal = 'foo\\nbar' # foo\n",
    "                    # bar\n",
    "escaped = 'foo\\\\nbar' # foo\\nbar\n",
    "raw = r'foo\\nbar' # foo\\nbar\n"
   ]
  },
  {
   "attachments": {},
   "cell_type": "markdown",
   "metadata": {},
   "source": [
    "**Mutable and Immutable Data Types**\n",
    "\n",
    "An object is called mutable if it can be changed. For example, when you pass a list to some function, the list can be changed:"
   ]
  },
  {
   "cell_type": "code",
   "execution_count": null,
   "metadata": {},
   "outputs": [],
   "source": [
    "def f(m):\n",
    "    m.append(3) # adds a number to the list. This is a mutation.\n",
    "x = [1, 2]\n",
    "f(x)\n",
    "x == [1, 2] # False now, since an item was added to the list"
   ]
  },
  {
   "attachments": {},
   "cell_type": "markdown",
   "metadata": {},
   "source": [
    "An object is called immutable if it cannot be changed in any way. For example, integers are immutable, since there's no way to change them:"
   ]
  },
  {
   "cell_type": "code",
   "execution_count": null,
   "metadata": {},
   "outputs": [],
   "source": [
    "def bar():\n",
    "    x = (1, 2)\n",
    "    g(x)\n",
    "    x == (1, 2) # Will always be True, since no function can change the object (1, 2)"
   ]
  },
  {
   "attachments": {},
   "cell_type": "markdown",
   "metadata": {},
   "source": [
    "Note that variables themselves are mutable, so we can reassign the variable x, but this does not change the object that x had previously pointed to. It only made x point to a new object.\n",
    "\n",
    "Data types whose instances are mutable are called mutable data types, and similarly for immutable objects and datatypes.\n",
    "\n",
    "Examples of immutable Data Types:\n",
    "* int, long, float, complex\n",
    "* str\n",
    "* bytes\n",
    "* tuple\n",
    "* frozenset\n",
    "\n",
    "Examples of mutable Data Types:\n",
    "* bytearray\n",
    "* list\n",
    "* set\n",
    "* dict"
   ]
  },
  {
   "attachments": {},
   "cell_type": "markdown",
   "metadata": {},
   "source": [
    "## 1.5 Collection Types"
   ]
  },
  {
   "attachments": {},
   "cell_type": "markdown",
   "metadata": {},
   "source": [
    "There are a number of collection types in Python. While types such as int and str hold a single value, collection types hold multiple values."
   ]
  },
  {
   "attachments": {},
   "cell_type": "markdown",
   "metadata": {},
   "source": [
    "**Lists**\n",
    "\n",
    "The list type is probably the most commonly used collection type in Python. Despite its name, a list is more like an\n",
    "array in other languages, mostly JavaScript. In Python, a list is merely an ordered collection of valid Python values. \n",
    "\n",
    "A list can be created by enclosing values, separated by commas, in square brackets:"
   ]
  },
  {
   "cell_type": "code",
   "execution_count": null,
   "metadata": {},
   "outputs": [],
   "source": [
    "int_list = [1, 2, 3]\n",
    "\n",
    "string_list = ['abc', 'defghi']\n",
    "\n",
    "empty_list = []\n",
    "\n",
    "mixed_list = [1, 'abc', True, 2.34, None]\n",
    "\n",
    "nested_list = [['a', 'b', 'c'], [1, 2, 3]]\n",
    "\n",
    "names = ['Alice', 'Bob', 'Craig', 'Diana', 'Eric']\n",
    "print(names[0]) # Alice\n",
    "print(names[2]) # Craig\n",
    "print(names[-1]) # Eric\n",
    "print(names[-4]) # Bob\n",
    "names[0] = 'Ann'\n",
    "print(names)\n",
    "# Outputs ['Ann', 'Bob', 'Craig', 'Diana', 'Eric']\n",
    "\n",
    "names = ['Alice', 'Bob', 'Craig', 'Diana', 'Eric']\n",
    "names.append(\"Sia\")\n",
    "print(names)\n",
    "# Outputs ['Alice', 'Bob', 'Craig', 'Diana', 'Eric', 'Sia']\n",
    "\n",
    "#List.insert(index, object)\n",
    "names.insert(1, \"Nikki\")\n",
    "print(names)\n",
    "# Outputs ['Alice', 'Nikki', 'Bob', 'Craig', 'Diana', 'Eric', 'Sia']\n",
    "\n",
    "names.remove(\"Bob\")\n",
    "print(names) # Outputs ['Alice', 'Nikki', 'Craig', 'Diana', 'Eric', 'Sia']\n",
    "\n",
    "name.index(\"Alice\")\n",
    "#0\n",
    "\n",
    "len(names)\n",
    "#6\n",
    "\n",
    "a = [1, 1, 1, 2, 3, 4]\n",
    "a.count(1)\n",
    "#3\n",
    "\n",
    "a.reverse()\n",
    "[4, 3, 2, 1, 1, 1]\n",
    "# or\n",
    "a[::-1]\n",
    "[4, 3, 2, 1, 1, 1]\n",
    "\n",
    "names.pop() # Outputs 'Sia'\n",
    "\n",
    "#To iterate\n",
    "for element in names:\n",
    "    print (element)"
   ]
  },
  {
   "attachments": {},
   "cell_type": "markdown",
   "metadata": {},
   "source": [
    "**Tuples**\n",
    "\n",
    "A tuple is similar to a list except that it is fixed-length and immutable. So the values in the tuple cannot be changed\n",
    "nor the values be added to or removed from the tuple. Tuples are commonly used for small collections of values that will not need to change, such as an IP address and port. \n",
    "\n",
    "Tuples are represented with parentheses instead of square brackets:"
   ]
  },
  {
   "cell_type": "code",
   "execution_count": null,
   "metadata": {},
   "outputs": [],
   "source": [
    "ip_address = ('10.20.30.40', 8080)\n",
    "\n",
    "#A tuple with only one member must be defined (note the comma) this way:\n",
    "one_member_tuple = ('Only member',)\n",
    "#or\n",
    "one_member_tuple = 'Only member', # No brackets\n",
    "#or\n",
    "one_member_tuple = tuple(['Only member'])\n"
   ]
  },
  {
   "attachments": {},
   "cell_type": "markdown",
   "metadata": {},
   "source": [
    "The same indexing rules for lists also apply to tuples. Tuples can also be nested and the values can be any valid\n",
    "Python valid."
   ]
  },
  {
   "attachments": {},
   "cell_type": "markdown",
   "metadata": {},
   "source": [
    "**Dictionaries**\n",
    "\n",
    "A dictionary in Python is a collection of key-value pairs. The dictionary is surrounded by curly braces. Each pair is separated by a comma and the key and value are separated by a colon. \n",
    "\n",
    "Here is an example:"
   ]
  },
  {
   "cell_type": "code",
   "execution_count": null,
   "metadata": {},
   "outputs": [],
   "source": [
    "state_capitals = {\n",
    "    'Arkansas': 'Little Rock',\n",
    "    'Colorado': 'Denver',\n",
    "    'California': 'Sacramento',\n",
    "    'Georgia': 'Atlanta'\n",
    "}\n",
    "\n",
    "#To get a value, refer to it by its key:\n",
    "ca_capital = state_capitals['California']\n",
    "\n",
    "#You can also get all of the keys in a dictionary and then iterate over them:\n",
    "for k in state_capitals.keys():\n",
    "    print('{} is the capital of {}'.format(state_capitals[k], k))"
   ]
  },
  {
   "attachments": {},
   "cell_type": "markdown",
   "metadata": {},
   "source": [
    "**Set**\n",
    "\n",
    "A set is a collection of elements with no repeats and without insertion order but sorted order. They are used in situations where it is only important that some things are grouped together, and not what order they were included. For large groups of data, it is much faster to check whether or not an element is in a set than it is to do the same for a list.\n",
    "\n",
    "Defining a set is very similar to defining a dictionary:"
   ]
  },
  {
   "cell_type": "code",
   "execution_count": null,
   "metadata": {},
   "outputs": [],
   "source": [
    "first_names = {'Adam', 'Beth', 'Charlie'}\n",
    "\n",
    "#Or you can build a set using an existing list:\n",
    "\n",
    "my_list = [1,2,3]\n",
    "my_set = set(my_list)\n",
    "\n",
    "#Check membership of the set using in:\n",
    "if name in first_names:\n",
    "    print(name)"
   ]
  },
  {
   "attachments": {},
   "cell_type": "markdown",
   "metadata": {},
   "source": [
    "NOTE\n",
    "\n",
    "You can iterate over a set exactly like a list, but remember: the values will be in an arbitrary, implementation-defined\n",
    "order."
   ]
  },
  {
   "attachments": {},
   "cell_type": "markdown",
   "metadata": {},
   "source": [
    "**Defaultdict**\n",
    "\n",
    "A defaultdict is a dictionary with a default value for keys, so that keys for which no value has been explicitly defined can be accessed without errors. defaultdict is especially useful when the values in the dictionary are collections (lists, dicts, etc) in the sense that it does not need to be initialized every time when a new key is used.\n",
    "\n",
    "A defaultdict will never raise a KeyError. Any key that does not exist gets the default value returned.\n",
    "\n",
    "For example, consider the following dictionary"
   ]
  },
  {
   "cell_type": "code",
   "execution_count": null,
   "metadata": {},
   "outputs": [],
   "source": [
    "state_capitals = {\n",
    "'Arkansas': 'Little Rock',\n",
    "'Colorado': 'Denver',\n",
    "'California': 'Sacramento',\n",
    "'Georgia': 'Atlanta'\n",
    "}\n",
    "\n",
    "#If we try to access a non-existent key, python returns us an error as follows\n",
    "\n",
    "state_capitals['Alabama']\n",
    "# KeyError: 'Alabama'"
   ]
  },
  {
   "cell_type": "code",
   "execution_count": null,
   "metadata": {},
   "outputs": [],
   "source": [
    "#Let us try with a defaultdict.\n",
    "from collections import defaultdict\n",
    "\n",
    "state_capitals = defaultdict(lambda: 'Boston')\n",
    "\n",
    "#What we did here is to set a default value (Boston) in case the give key does not exist. Now populate the dict as before:\n",
    "\n",
    "state_capitals['Arkansas'] = 'Little Rock'\n",
    "state_capitals['California'] = 'Sacramento'\n",
    "state_capitals['Colorado'] = 'Denver'\n",
    "state_capitals['Georgia'] = 'Atlanta'\n",
    "\n",
    "#If we try to access the dict with a non-existent key, python will return us the default value i.e. Boston\n",
    "\n",
    "state_capitals['Alabama']\n",
    "#Output= 'Boston'\n",
    "\n",
    "state_capitals['Arkansas']\n",
    "#Output= 'Little Rock'"
   ]
  },
  {
   "attachments": {},
   "cell_type": "markdown",
   "metadata": {},
   "source": [
    "## 1.6 IDLE-Python GUI"
   ]
  },
  {
   "attachments": {},
   "cell_type": "markdown",
   "metadata": {},
   "source": [
    "IDLE is Python’s Integrated Development and Learning Environment and is an alternative to the command line. As the name may imply, IDLE is very useful for developing new code or learning python. On Windows this comes with the Python interpreter, but in other operating systems you may need to install it through your package manager."
   ]
  },
  {
   "attachments": {},
   "cell_type": "markdown",
   "metadata": {},
   "source": [
    "The main purposes of IDLE are:\n",
    "\n",
    "* Multi-window text editor with syntax highlighting, autocompletion, and smart indent\n",
    "* Python shell with syntax highlighting\n",
    "* Integrated debugger with stepping, persistent breakpoints, and call stack visibility\n",
    "* Automatic indentation (useful for beginners learning about Python's indentation)\n",
    "* Saving the Python program as .py files and run them and edit them later at any them using IDLE.\n",
    "\n",
    "In IDLE, hit F5 or run Python Shell to launch an interpreter. Using IDLE can be a better learning experience for new users because code is interpreted as the user writes.\n",
    "\n",
    "NOTE that there are a lot of alternatives, see:\n",
    "https://stackoverflow.com/questions/81584/what-ide-to-use-for-python\n",
    "https://wiki.python.org/moin/PythonEditors"
   ]
  },
  {
   "attachments": {},
   "cell_type": "markdown",
   "metadata": {},
   "source": [
    "**Troubleshotting**\n",
    "\n",
    "* Windows\n",
    "\n",
    "If you're on Windows, the default command is python. If you receive a \"'python' is not recognized\" error, the most likely cause is that Python's location is not in your system's PATH environment variable. This can be accessed by right-clicking on 'My Computer' and selecting 'Properties' or by navigating to 'System' through 'Control Panel'. Click on 'Advanced system settings' and then 'Environment Variables...'. Edit the PATH variable to include the directory of your Python installation, as well as the Script folder (usually C:\\Python27;C:\\Python27\\Scripts). This requires administrative privileges and may require a restart. \n",
    "\n",
    "When using multiple versions of Python on the same machine, a possible solution is to rename one of the python.exe files. For example, naming one version python27.exe would cause python27 to become the Python command for that version.\n",
    "\n",
    "You can also use the Python Launcher for Windows, which is available through the installer and comes by default. It allows you to select the version of Python to run by using py -[x.y] instead of python[x.y]. You can use the latest version of Python 2 by running scripts with py -2 and the latest version of Python 3 by running scripts with py -3.\n",
    "\n",
    "* Debian/Ubuntu/MacOS\n",
    "\n",
    "This section assumes that the location of the python executable has been added to the PATH environment variable.\n",
    "\n",
    "If you're on Debian/Ubuntu/MacOS, open the terminal and type python for Python 2.x or python3 for Python 3.x.\n",
    "\n",
    "Type which python to see which Python interpreter will be used.\n",
    "\n",
    "* Arch Linux\n",
    "\n",
    "The default Python on Arch Linux (and descendants) is Python 3, so use python or python3 for Python 3.x and python2 for Python 2.x.\n",
    "\n",
    "* Other systems\n",
    "\n",
    "Python 3 is sometimes bound to python instead of python3. To use Python 2 on these systems where it is installed, you can use python2.\n",
    "\n"
   ]
  },
  {
   "attachments": {},
   "cell_type": "markdown",
   "metadata": {},
   "source": [
    "## 1.7 User Input"
   ]
  },
  {
   "attachments": {},
   "cell_type": "markdown",
   "metadata": {},
   "source": [
    "**Interative Input**\n",
    "\n",
    "To get input from the user, use the input function:"
   ]
  },
  {
   "cell_type": "code",
   "execution_count": null,
   "metadata": {},
   "outputs": [],
   "source": [
    "name = input(\"What is your name? \")\n",
    "# Out: What is your name? _\n",
    "\n",
    "#If the user types \"Bob\" and hits enter, the variable name will be assigned to the string \"Bob\":\n",
    "print(name)\n",
    "#Output= Bob\n"
   ]
  },
  {
   "attachments": {},
   "cell_type": "markdown",
   "metadata": {},
   "source": [
    "Note that the input is always of type str, which is important if you want the user to enter numbers. Therefore, you need to convert the str before trying to use it as a number:"
   ]
  },
  {
   "cell_type": "code",
   "execution_count": null,
   "metadata": {},
   "outputs": [],
   "source": [
    "x = input(\"Write a number:\")\n",
    "# Out: Write a number: 10\n",
    "x / 2\n",
    "# Out: TypeError: unsupported operand type(s) for /: 'str' and 'int'\n",
    "float(x) / 2\n",
    "# Out: 5.0\n",
    "\n",
    "#Any data type can be simply converted to string using a builtin function called str. This function is called by default when a data type is passed to print\n",
    "str(123) \n",
    "# \"123\""
   ]
  },
  {
   "attachments": {},
   "cell_type": "markdown",
   "metadata": {},
   "source": [
    "NOTE\n",
    "\n",
    "It's recommended to use try/except blocks to catch exceptions when dealing with user inputs. For instance, if your code wants to cast a raw_input into an int, and what the user writes is uncastable, it raises a ValueError."
   ]
  },
  {
   "attachments": {},
   "cell_type": "markdown",
   "metadata": {},
   "source": [
    "## 1.8 Built in Modules and Functions"
   ]
  },
  {
   "attachments": {},
   "cell_type": "markdown",
   "metadata": {},
   "source": [
    "A module is a file containing Python definitions and statements. Function is a piece of code which execute some logic."
   ]
  },
  {
   "cell_type": "code",
   "execution_count": null,
   "metadata": {},
   "outputs": [],
   "source": [
    "\"\"\"\n",
    "(function) def pow(\n",
    "    base: int,\n",
    "    exp: _PositiveInteger,\n",
    "    mod: None = None\n",
    ") -> int\n",
    "\n",
    "\"\"\"\n",
    "\n",
    "pow(2,3) \n",
    "\n",
    "#8"
   ]
  },
  {
   "attachments": {},
   "cell_type": "markdown",
   "metadata": {},
   "source": [
    "To check the built in function in python we can use dir(). If called without an argument, return the names in the current scope. Else, return an alphabetized list of names comprising (some of) the attribute of the given object, and of attributes reachable from it."
   ]
  },
  {
   "cell_type": "code",
   "execution_count": null,
   "metadata": {},
   "outputs": [],
   "source": [
    "dir(__builtins__)\n",
    "[\n",
    "    'ArithmeticError',\n",
    "    'AssertionError',\n",
    "    'AttributeError',\n",
    "    'BaseException',\n",
    "    'BufferError',\n",
    "    'BytesWarning',\n",
    "    'DeprecationWarning',\n",
    "    'EOFError',\n",
    "    'Ellipsis',\n",
    "    'EnvironmentError',\n",
    "    'Exception',\n",
    "    'False',\n",
    "    'FloatingPointError',\n",
    "    'FutureWarning',\n",
    "    'GeneratorExit',\n",
    "    'IOError',\n",
    "    'ImportError',\n",
    "    'ImportWarning',\n",
    "    'IndentationError',\n",
    "    'IndexError',\n",
    "    'KeyError',\n",
    "    'KeyboardInterrupt',\n",
    "    'LookupError',\n",
    "    'MemoryError',\n",
    "    'NameError',\n",
    "    'None',\n",
    "    'NotImplemented',\n",
    "    'NotImplementedError',\n",
    "    'OSError',\n",
    "    'OverflowError',\n",
    "    'PendingDeprecationWarning',\n",
    "    'ReferenceError',\n",
    "    'RuntimeError',\n",
    "    'RuntimeWarning',\n",
    "    'StandardError',\n",
    "    'StopIteration',\n",
    "    'SyntaxError',\n",
    "    'SyntaxWarning',\n",
    "    'SystemError',\n",
    "    'SystemExit',\n",
    "    'TabError',\n",
    "    'True',\n",
    "    'TypeError',\n",
    "    'UnboundLocalError',\n",
    "    'UnicodeDecodeError',\n",
    "    'UnicodeEncodeError',\n",
    "    'UnicodeError',\n",
    "    'UnicodeTranslateError',\n",
    "    'UnicodeWarning',\n",
    "    'UserWarning',\n",
    "    'ValueError',\n",
    "    'Warning',\n",
    "    'ZeroDivisionError',\n",
    "    '__debug__',\n",
    "    '__doc__',\n",
    "    '__import__',\n",
    "    '__name__',\n",
    "    '__package__',\n",
    "    'abs',\n",
    "    'all',\n",
    "    'any',\n",
    "    'apply',\n",
    "    'basestring',\n",
    "    'bin',\n",
    "    'bool',\n",
    "    'buffer',\n",
    "    'bytearray',\n",
    "    'bytes',\n",
    "    'callable',\n",
    "    'chr',\n",
    "    'classmethod',\n",
    "    'cmp',\n",
    "    'coerce',\n",
    "    'compile',\n",
    "    'complex',\n",
    "    'copyright',\n",
    "    'credits',\n",
    "    'delattr',\n",
    "    'dict',\n",
    "    'dir',\n",
    "    'divmod',\n",
    "    'enumerate',\n",
    "    'eval',\n",
    "    'execfile',\n",
    "    'exit',\n",
    "    'file',\n",
    "    'filter',\n",
    "    'float',\n",
    "    'format',\n",
    "    'frozenset',\n",
    "    'getattr',\n",
    "    'globals',\n",
    "    'hasattr',\n",
    "    'hash',\n",
    "    'help',\n",
    "    'hex',\n",
    "    'id',\n",
    "    'input',\n",
    "    'int',\n",
    "    'intern',\n",
    "    'isinstance',\n",
    "    'issubclass',\n",
    "    'iter',\n",
    "    'len',\n",
    "    'license',\n",
    "    'list',\n",
    "    'locals',\n",
    "    'long',\n",
    "    'map',\n",
    "    'max',\n",
    "    'memoryview',\n",
    "    'min',\n",
    "    'next',\n",
    "    'object',\n",
    "    'oct',\n",
    "    'open',\n",
    "    'ord',\n",
    "    'pow',\n",
    "    'print',\n",
    "    'property',\n",
    "    'quit',\n",
    "    'range',\n",
    "    'raw_input',\n",
    "    'reduce',\n",
    "    'reload',\n",
    "    'repr',\n",
    "    'reversed',\n",
    "    'round',\n",
    "    'set',\n",
    "    'setattr',\n",
    "    'slice',\n",
    "    'sorted',\n",
    "    'staticmethod',\n",
    "    'str',\n",
    "    'sum',\n",
    "    'super',\n",
    "    'tuple',\n",
    "    'type',\n",
    "    'unichr',\n",
    "    'unicode',\n",
    "    'vars',\n",
    "    'xrange',\n",
    "    'zip'\n",
    "]"
   ]
  },
  {
   "attachments": {},
   "cell_type": "markdown",
   "metadata": {},
   "source": [
    "To know the functionality of any function, we can use built in function help."
   ]
  },
  {
   "cell_type": "code",
   "execution_count": null,
   "metadata": {},
   "outputs": [],
   "source": [
    "help(max)\n",
    "\n",
    "\"\"\"\n",
    "Help on built-in function max in module __builtin__:\n",
    "max(...)\n",
    "    max(iterable[, key=func]) -> value\n",
    "    max(a, b, c, ...[, key=func]) -> value\n",
    "    With a single iterable argument, return its largest item.\n",
    "    With two or more arguments, return the largest argument.\n",
    "\"\"\""
   ]
  },
  {
   "attachments": {},
   "cell_type": "markdown",
   "metadata": {},
   "source": [
    "Built in modules contains extra functionalities. For example to get square root of a number we need to include math\n",
    "module."
   ]
  },
  {
   "cell_type": "code",
   "execution_count": null,
   "metadata": {},
   "outputs": [],
   "source": [
    "import math\n",
    "math.sqrt(16) \n",
    "# Square root = 4.0"
   ]
  },
  {
   "attachments": {},
   "cell_type": "markdown",
   "metadata": {},
   "source": [
    "To know all the functions in a module we can assign the functions list to a variable, and then print the variable."
   ]
  },
  {
   "cell_type": "code",
   "execution_count": null,
   "metadata": {},
   "outputs": [],
   "source": [
    "import math\n",
    "dir(math)\n",
    "\n",
    "['__doc__', '__name__', '__package__', 'acos', 'acosh',\n",
    "'asin', 'asinh', 'atan', 'atan2', 'atanh', 'ceil', 'copysign',\n",
    "'cos', 'cosh', 'degrees', 'e', 'erf', 'erfc', 'exp', 'expm1',\n",
    "'fabs', 'factorial', 'floor', 'fmod', 'frexp', 'fsum', 'gamma',\n",
    "'hypot', 'isinf', 'isnan', 'ldexp', 'lgamma', 'log', 'log10',\n",
    "'log1p', 'modf', 'pi', 'pow', 'radians', 'sin', 'sinh', 'sqrt',\n",
    "'tan', 'tanh', 'trunc']\n",
    "\n",
    "#it seems __doc__ is useful to provide some documentation in, say, functions\n",
    "math.__doc__\n",
    "\n",
    "\"\"\"\n",
    "'This module is always available. It provides access to the\\nmathematical\n",
    "functions defined by the C standard.'\n",
    "\"\"\""
   ]
  },
  {
   "attachments": {},
   "cell_type": "markdown",
   "metadata": {},
   "source": [
    "In addition to functions, documentation can also be provided in modules. So, if you have a file named helloWorld.py like this:"
   ]
  },
  {
   "cell_type": "code",
   "execution_count": null,
   "metadata": {},
   "outputs": [],
   "source": [
    "\"\"\"This is the module docstring.\"\"\"\n",
    "\n",
    "def sayHello():   \n",
    "    \"\"\"This is the function docstring.\"\"\"\n",
    "    return 'Hello World'"
   ]
  },
  {
   "cell_type": "code",
   "execution_count": null,
   "metadata": {},
   "outputs": [],
   "source": [
    "#You can access its docstrings like this:\n",
    "import helloWorld\n",
    "\n",
    "helloWorld.__doc__\n",
    "# Out = 'This is the module docstring.'\n",
    "\n",
    "helloWorld.sayHello.__doc__\n",
    "#Out? 'This is the function docstring.'"
   ]
  },
  {
   "attachments": {},
   "cell_type": "markdown",
   "metadata": {},
   "source": [
    "For any user defined type, its attributes, its class's attributes, and recursively the attributes of its class's base classes can be retrieved using dir()"
   ]
  },
  {
   "cell_type": "code",
   "execution_count": null,
   "metadata": {},
   "outputs": [],
   "source": [
    "class MyClassObject(object):\n",
    "    pass\n",
    "\n",
    "dir(MyClassObject)\n",
    "\n",
    "['__class__', '__delattr__', '__dict__', '__doc__', '__format__', '__getattribute__', '__hash__',\n",
    "'__init__', '__module__', '__new__', '__reduce__', '__reduce_ex__', '__repr__', '__setattr__',\n",
    "'__sizeof__', '__str__', '__subclasshook__', '__weakref__']"
   ]
  },
  {
   "attachments": {},
   "cell_type": "markdown",
   "metadata": {},
   "source": [
    "## 1.9 Creating a module"
   ]
  },
  {
   "attachments": {},
   "cell_type": "markdown",
   "metadata": {},
   "source": [
    "A module is an importable file containing definitions and statements.\n",
    "\n",
    "A module can be created by creating a .py file."
   ]
  },
  {
   "cell_type": "code",
   "execution_count": null,
   "metadata": {},
   "outputs": [],
   "source": [
    "# hello.py\n",
    "def say_hello():\n",
    "    print(\"Hello!\")"
   ]
  },
  {
   "attachments": {},
   "cell_type": "markdown",
   "metadata": {},
   "source": [
    "Functions in a module can be used by importing the module.\n",
    "For modules that you have made, they will need to be in the same directory as the file that you are importing them\n",
    "into. (However, you can also put them into the Python lib directory with the pre-included modules, but should be\n",
    "avoided if possible.)"
   ]
  },
  {
   "cell_type": "code",
   "execution_count": null,
   "metadata": {
    "vscode": {
     "languageId": "powershell"
    }
   },
   "outputs": [],
   "source": [
    "$ python\n",
    ">>> import hello\n",
    ">>> hello.say_hello()\n",
    "=> \"Hello!\""
   ]
  },
  {
   "attachments": {},
   "cell_type": "markdown",
   "metadata": {},
   "source": [
    "Modules can be imported by other modules."
   ]
  },
  {
   "cell_type": "code",
   "execution_count": null,
   "metadata": {},
   "outputs": [],
   "source": [
    "# greet.py\n",
    "import hello\n",
    "hello.say_hello()"
   ]
  },
  {
   "attachments": {},
   "cell_type": "markdown",
   "metadata": {},
   "source": [
    "Specific functions of a module can be imported."
   ]
  },
  {
   "cell_type": "code",
   "execution_count": null,
   "metadata": {},
   "outputs": [],
   "source": [
    "from hello import say_hello\n",
    "say_hello()"
   ]
  },
  {
   "attachments": {},
   "cell_type": "markdown",
   "metadata": {},
   "source": [
    "Modules can be aliased."
   ]
  },
  {
   "cell_type": "code",
   "execution_count": null,
   "metadata": {},
   "outputs": [],
   "source": [
    "# greet.py\n",
    "import hello as ai\n",
    "ai.say_hello()"
   ]
  },
  {
   "attachments": {},
   "cell_type": "markdown",
   "metadata": {},
   "source": [
    "A module can be stand-alone runnable script."
   ]
  },
  {
   "cell_type": "code",
   "execution_count": null,
   "metadata": {},
   "outputs": [],
   "source": [
    "# run_hello.py\n",
    "if __name__ == '__main__':\n",
    "    from hello import say_hello\n",
    "    say_hello()"
   ]
  },
  {
   "attachments": {},
   "cell_type": "markdown",
   "metadata": {},
   "source": [
    "Run it!"
   ]
  },
  {
   "cell_type": "code",
   "execution_count": null,
   "metadata": {
    "vscode": {
     "languageId": "powershell"
    }
   },
   "outputs": [],
   "source": [
    "$ python run_hello.py\n",
    "=> \"Hello!\""
   ]
  },
  {
   "attachments": {},
   "cell_type": "markdown",
   "metadata": {},
   "source": [
    "If the module is inside a directory and needs to be detected by python, the directory should contain a file named __ init __.py."
   ]
  },
  {
   "attachments": {},
   "cell_type": "markdown",
   "metadata": {},
   "source": [
    "## 1.10 Installation of Python 3.x"
   ]
  },
  {
   "attachments": {},
   "cell_type": "markdown",
   "metadata": {},
   "source": [
    "**Windows** \n",
    "\n",
    "First, download the latest version of Python 3.x from the official Website (https://www.python.org/downloads/).\n",
    "Version is provided as an MSI package. To install it manually, just double-click the file.\n",
    "\n",
    "By default, Python installs to a directory:\n",
    "c:\\Pythonxx\\\n",
    "\n",
    "*Warning*: installation does not automatically modify the PATH environment variable.\n",
    "\n",
    "Assuming that your Python installation is in C:\\Pythonxx, add this to your PATH:\n",
    "\n",
    "C:\\Pythonxx\\;C:\\Pythonxx\\Scripts\\\n",
    "\n",
    "Now to check if Python installation is valid write in cmd:\n",
    "\n",
    "python --version"
   ]
  },
  {
   "attachments": {},
   "cell_type": "markdown",
   "metadata": {},
   "source": [
    "**Python 3.x side by side on a Windows machine**\n",
    "\n",
    "Install Python 3.x using its respective installer.\n",
    "* Again, ensure Python is installed for all users.\n",
    "* Optional: add Python to PATH to make Python 3.x callable from the command-line using python. This may override Python 2.x PATH settings, so double-check your PATH and ensure it's configured to your preferences.\n",
    "* Make sure to install the py launcher for all users."
   ]
  },
  {
   "attachments": {},
   "cell_type": "markdown",
   "metadata": {},
   "source": [
    "**Linux**\n",
    "\n",
    "Reference: https://docs.python-guide.org/starting/install3/linux/\n",
    "\n",
    "To check if Python3 installed:\n",
    "\n",
    "python3 --version\n",
    "\n",
    "To install (x=your desired version):\n",
    "\n",
    "sudo apt-get update\n",
    "sudo apt-get install python3.x"
   ]
  },
  {
   "attachments": {},
   "cell_type": "markdown",
   "metadata": {},
   "source": [
    "**macOS**\n",
    "\n",
    "Install Homebrew: \n",
    "\n",
    "https://brew.sh/\n",
    "\n",
    "To install (Do not forget Homebrew):\n",
    "\n",
    "brew install python3"
   ]
  },
  {
   "attachments": {},
   "cell_type": "markdown",
   "metadata": {},
   "source": [
    "## 1.11 String function - str() and repr()"
   ]
  },
  {
   "attachments": {},
   "cell_type": "markdown",
   "metadata": {},
   "source": [
    "There are two functions that can be used to obtain a readable representation of an object.\n",
    "\n",
    "repr(x) calls x. __ repr __(): a representation of x. eval will usually convert the result of this function back to the\n",
    "original object.\n",
    "str(x) calls x. __ str __(): a human-readable string that describes the object. This may elide some technical detail.\n",
    "\n",
    "**repr()**\n",
    "\n",
    "For many types, this function makes an attempt to return a string that would yield an object with the same value when passed to eval(). Otherwise, the representation is a string enclosed in angle brackets that contains the name of the type of the object along with additional information. This often includes the name and address of the object.\n",
    "\n",
    "**str()**\n",
    "\n",
    "For strings, this returns the string itself. The difference between this and repr(object) is that str(object) does not always attempt to return a string that is acceptable to eval(). Rather, its goal is to return a printable or 'human readable' string. If no argument is given, this returns the empty string, ''."
   ]
  },
  {
   "cell_type": "code",
   "execution_count": null,
   "metadata": {
    "vscode": {
     "languageId": "powershell"
    }
   },
   "outputs": [],
   "source": [
    "s = \"\"\"w'o\"w\"\"\"\n",
    "repr(s) # Output: '\\'w\\\\\\'o\"w\\''\n",
    "str(s) # Output: 'w\\'o\"w'\n",
    "eval(str(s)) == s # Gives a SyntaxError\n",
    "eval(repr(s)) == s # Output: True"
   ]
  },
  {
   "cell_type": "code",
   "execution_count": null,
   "metadata": {
    "vscode": {
     "languageId": "powershell"
    }
   },
   "outputs": [],
   "source": [
    "import datetime\n",
    "today = datetime.datetime.now()\n",
    "str(today) # Output: '2016-09-15 06:58:46.915000'\n",
    "repr(today) # Output: 'datetime.datetime(2016, 9, 15, 6, 58, 46, 915000)'"
   ]
  },
  {
   "attachments": {},
   "cell_type": "markdown",
   "metadata": {},
   "source": [
    "When writing a class, you can override these methods to do whatever you want:"
   ]
  },
  {
   "cell_type": "code",
   "execution_count": null,
   "metadata": {
    "vscode": {
     "languageId": "powershell"
    }
   },
   "outputs": [],
   "source": [
    "class Represent(object):\n",
    "    def __init__(self, x, y):\n",
    "        self.x, self.y = x, y\n",
    "    def __repr__(self):\n",
    "        return \"Represent(x={},y=\\\"{}\\\")\".format(self.x, self.y)\n",
    "    def __str__(self):\n",
    "        return \"Representing x as {} and y as {}\".format(self.x, self.y)"
   ]
  },
  {
   "attachments": {},
   "cell_type": "markdown",
   "metadata": {},
   "source": [
    "Using the above class we can see the results:"
   ]
  },
  {
   "cell_type": "code",
   "execution_count": null,
   "metadata": {
    "vscode": {
     "languageId": "powershell"
    }
   },
   "outputs": [],
   "source": [
    "r = Represent(1, \"Hopper\")\n",
    "\n",
    "print(r) # prints __str__\n",
    "\n",
    "print(r.__repr__) # prints __repr__: '<bound method Represent.__repr__ of Represent(x=1,y=\"Hopper\")>'\n",
    "\n",
    "rep = r.__repr__() # sets the execution of __repr__ to a new variable\n",
    "\n",
    "print(rep) # prints 'Represent(x=1,y=\"Hopper\")'\n",
    "\n",
    "r2 = eval(rep) # evaluates rep\n",
    "\n",
    "print(r2) # prints __str__ from new object\n",
    "\n",
    "print(r2 == r) # prints 'False' because they are different objects"
   ]
  },
  {
   "attachments": {},
   "cell_type": "markdown",
   "metadata": {},
   "source": [
    "## 1.12 Installing external modules using pip"
   ]
  },
  {
   "attachments": {},
   "cell_type": "markdown",
   "metadata": {},
   "source": [
    "pip is your friend when you need to install any package from the plethora of choices available at the python package index (PyPI). pip is already installed if you're using Python 2 >= 2.7.9 or Python 3 >= 3.4 downloaded from python.org. For computers running Linux or another *nix with a native package manager, pip must often be manually installed: \n",
    "\n",
    "https://pip.pypa.io/en/stable/installation/\n",
    "\n",
    "NOTE On instances with both Python 2 and Python 3 installed, pip often refers to Python 2 and pip3 to Python 3. Using pip will only install packages for Python 2 and pip3 will only install packages for Python 3."
   ]
  },
  {
   "attachments": {},
   "cell_type": "markdown",
   "metadata": {},
   "source": [
    "**Finding / isntalling a package**\n",
    "\n",
    "Searching for a package is as simple as typing:\n",
    "\n"
   ]
  },
  {
   "cell_type": "code",
   "execution_count": null,
   "metadata": {
    "vscode": {
     "languageId": "powershell"
    }
   },
   "outputs": [],
   "source": [
    "pip search <query>"
   ]
  },
  {
   "attachments": {},
   "cell_type": "markdown",
   "metadata": {},
   "source": [
    "Installing a package is as simple as typing (in a terminal / command-prompt, not in the Python interpreter)"
   ]
  },
  {
   "cell_type": "code",
   "execution_count": null,
   "metadata": {
    "vscode": {
     "languageId": "powershell"
    }
   },
   "outputs": [],
   "source": [
    "$ pip install [package_name] # latest version of the package\n",
    "$ pip install [package_name]==x.x.x # specific version of the package\n",
    "$ pip install '[package_name]>=x.x.x' # minimum version of the package"
   ]
  },
  {
   "attachments": {},
   "cell_type": "markdown",
   "metadata": {},
   "source": [
    "Where x.x.x is the version number of the package you want to install.\n",
    "\n",
    "When your server is behind proxy, you can install package by using below command:"
   ]
  },
  {
   "cell_type": "code",
   "execution_count": null,
   "metadata": {
    "vscode": {
     "languageId": "powershell"
    }
   },
   "outputs": [],
   "source": [
    "$ pip --proxy http://<server address>:<port> install"
   ]
  },
  {
   "attachments": {},
   "cell_type": "markdown",
   "metadata": {},
   "source": [
    "**Upgrading isntalled packages**\n",
    "\n",
    "When new versions of installed packages appear they are not automatically installed to your system. To get an overview of which of your installed packages have become outdated, run:"
   ]
  },
  {
   "cell_type": "code",
   "execution_count": null,
   "metadata": {
    "vscode": {
     "languageId": "powershell"
    }
   },
   "outputs": [],
   "source": [
    "$ pip list --outdated"
   ]
  },
  {
   "attachments": {},
   "cell_type": "markdown",
   "metadata": {},
   "source": [
    "To upgrade a specific package use"
   ]
  },
  {
   "cell_type": "code",
   "execution_count": null,
   "metadata": {
    "vscode": {
     "languageId": "powershell"
    }
   },
   "outputs": [],
   "source": [
    "$ pip install [package_name] --upgrade"
   ]
  },
  {
   "attachments": {},
   "cell_type": "markdown",
   "metadata": {},
   "source": [
    "Updating all outdated packages is not a standard functionality of pip."
   ]
  },
  {
   "attachments": {},
   "cell_type": "markdown",
   "metadata": {},
   "source": [
    "**Upgrading pip**\n",
    "\n",
    "You can upgrade your existing pip installation by using the following commands\n",
    "\n",
    "* On Linux or MacOS X:"
   ]
  },
  {
   "cell_type": "code",
   "execution_count": null,
   "metadata": {
    "vscode": {
     "languageId": "powershell"
    }
   },
   "outputs": [],
   "source": [
    "$ pip install -U pip"
   ]
  },
  {
   "attachments": {},
   "cell_type": "markdown",
   "metadata": {},
   "source": [
    "You may need to use sudo with on some Linux Systems"
   ]
  },
  {
   "attachments": {},
   "cell_type": "markdown",
   "metadata": {},
   "source": [
    "* On Windows"
   ]
  },
  {
   "cell_type": "code",
   "execution_count": null,
   "metadata": {
    "vscode": {
     "languageId": "powershell"
    }
   },
   "outputs": [],
   "source": [
    "python -m pip install -U pip"
   ]
  },
  {
   "attachments": {},
   "cell_type": "markdown",
   "metadata": {},
   "source": [
    "For more information regarding pip do read here: https://pip.pypa.io/en/stable/"
   ]
  },
  {
   "attachments": {},
   "cell_type": "markdown",
   "metadata": {},
   "source": [
    "## 1.13 Help Utility"
   ]
  },
  {
   "attachments": {},
   "cell_type": "markdown",
   "metadata": {},
   "source": [
    "Python has several functions built into the interpreter. If you want to get information of keywords, built-in\n",
    "functions, modules or topics open a Python console and enter:"
   ]
  },
  {
   "cell_type": "code",
   "execution_count": null,
   "metadata": {},
   "outputs": [],
   "source": [
    "help()\n",
    "\n",
    "#You will recive information by entering keywords directly:\n",
    "\n",
    "help(help)\n",
    "\n",
    "#which will show an explanation:\n",
    "\n",
    "\"\"\"\n",
    "Help on _Helper in module _sitebuiltins object:\n",
    "class _Helper(builtins.object)\n",
    "| Define the builtin 'help'.\n",
    "|\n",
    "| This is a wrapper around pydoc.help that provides a helpful message\n",
    "| when 'help' is typed at the Python interactive prompt.\n",
    "|\n",
    "| Calling help() at the Python prompt starts an interactive help session.\n",
    "| Calling help(thing) prints help for the python object 'thing'.\n",
    "|\n",
    "| Methods defined here:\n",
    "|\n",
    "| __call__(self, *args, **kwds)\n",
    "|\n",
    "| __repr__(self)\n",
    "|\n",
    "| ----------------------------------------------------------------------\n",
    "| Data descriptors defined here:\n",
    "|\n",
    "| __dict__\n",
    "| dictionary for instance variables (if defined)\n",
    "|\n",
    "| __weakref__\n",
    "| list of weak references to the object (if defined)\n",
    "\n",
    "\"\"\""
   ]
  },
  {
   "attachments": {},
   "cell_type": "markdown",
   "metadata": {},
   "source": [
    "You can also request subclasses of modules:"
   ]
  },
  {
   "cell_type": "code",
   "execution_count": null,
   "metadata": {},
   "outputs": [],
   "source": [
    "import pymysql\n",
    "help(pymysql.connections)"
   ]
  },
  {
   "attachments": {},
   "cell_type": "markdown",
   "metadata": {},
   "source": [
    "And now you will get a list of the available methods in the module, but only AFTER you have imported it.\n",
    "\n",
    "Close the helper with: \n",
    "\n",
    "quit"
   ]
  }
 ],
 "metadata": {
  "kernelspec": {
   "display_name": "Python 3",
   "language": "python",
   "name": "python3"
  },
  "language_info": {
   "codemirror_mode": {
    "name": "ipython",
    "version": 3
   },
   "file_extension": ".py",
   "mimetype": "text/x-python",
   "name": "python",
   "nbconvert_exporter": "python",
   "pygments_lexer": "ipython3",
   "version": "3.11.3"
  },
  "orig_nbformat": 4
 },
 "nbformat": 4,
 "nbformat_minor": 2
}
