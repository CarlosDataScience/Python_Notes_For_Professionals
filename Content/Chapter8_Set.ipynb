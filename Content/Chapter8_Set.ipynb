{
 "cells": [
  {
   "attachments": {},
   "cell_type": "markdown",
   "metadata": {},
   "source": [
    "# Set"
   ]
  },
  {
   "attachments": {},
   "cell_type": "markdown",
   "metadata": {},
   "source": [
    "## 8.1 Operations on sets"
   ]
  },
  {
   "attachments": {},
   "cell_type": "markdown",
   "metadata": {},
   "source": [
    "* With other sets"
   ]
  },
  {
   "cell_type": "code",
   "execution_count": null,
   "metadata": {},
   "outputs": [],
   "source": [
    "# Intersection\n",
    "{1, 2, 3, 4, 5}.intersection({3, 4, 5, 6}) # {3, 4, 5}\n",
    "{1, 2, 3, 4, 5} & {3, 4, 5, 6} # {3, 4, 5}\n",
    "\n",
    "# Union\n",
    "{1, 2, 3, 4, 5}.union({3, 4, 5, 6}) # {1, 2, 3, 4, 5, 6}\n",
    "{1, 2, 3, 4, 5} | {3, 4, 5, 6} # {1, 2, 3, 4, 5, 6}\n",
    "\n",
    "# Difference\n",
    "{1, 2, 3, 4}.difference({2, 3, 5}) # {1, 4}\n",
    "{1, 2, 3, 4} - {2, 3, 5} # {1, 4}\n",
    "\n",
    "# Symmetric difference with\n",
    "{1, 2, 3, 4}.symmetric_difference({2, 3, 5}) # {1, 4, 5}\n",
    "{1, 2, 3, 4} ^ {2, 3, 5} # {1, 4, 5}\n",
    "\n",
    "# Superset check\n",
    "{1, 2}.issuperset({1, 2, 3}) # False\n",
    "{1, 2} >= {1, 2, 3} # False\n",
    "\n",
    "# Subset check\n",
    "{1, 2}.issubset({1, 2, 3}) # True\n",
    "{1, 2} <= {1, 2, 3} # True\n",
    "\n",
    "# Disjoint check\n",
    "{1, 2}.isdisjoint({3, 4}) # True\n",
    "{1, 2}.isdisjoint({1, 4}) # False"
   ]
  },
  {
   "attachments": {},
   "cell_type": "markdown",
   "metadata": {},
   "source": [
    "* With single elements"
   ]
  },
  {
   "cell_type": "code",
   "execution_count": null,
   "metadata": {},
   "outputs": [],
   "source": [
    "# Existence check\n",
    "2 in {1,2,3} # True\n",
    "4 in {1,2,3} # False\n",
    "4 not in {1,2,3} # True\n",
    "\n",
    "# Add and Remove\n",
    "s = {1,2,3}\n",
    "s.add(4) # s == {1,2,3,4}\n",
    "\n",
    "s.discard(3) # s == {1,2,4}\n",
    "s.discard(5) # s == {1,2,4}\n",
    "\n",
    "s.remove(2) # s == {1,4}\n",
    "s.remove(2) # KeyError!"
   ]
  },
  {
   "attachments": {},
   "cell_type": "markdown",
   "metadata": {},
   "source": [
    "Set operations return new sets, but have the corresponding in-place versions:\n",
    "\n",
    "| Method               | in-place operation | in-place method             |\n",
    "|----------------------|--------------------|-----------------------------|\n",
    "| union                | s \\|= t            | update                      |\n",
    "| intersection         | s &= t             | intersection_update         |\n",
    "| difference           | s -= t             | difference_update           |\n",
    "| symmetric_difference | s ^= t             | symmetric_difference_update |\n",
    "\n",
    "For example:"
   ]
  },
  {
   "cell_type": "code",
   "execution_count": null,
   "metadata": {},
   "outputs": [],
   "source": [
    "s = {1, 2}\n",
    "s.update({3, 4}) # s == {1, 2, 3, 4}"
   ]
  },
  {
   "attachments": {},
   "cell_type": "markdown",
   "metadata": {},
   "source": [
    "## 8.2 Get the unique elements of a list"
   ]
  },
  {
   "attachments": {},
   "cell_type": "markdown",
   "metadata": {},
   "source": [
    "Let's say you've got a list of restaurants -- maybe you read it from a file. You care about the unique restaurants in the list. The best way to get the unique elements from a list is to turn it into a set:"
   ]
  },
  {
   "cell_type": "code",
   "execution_count": null,
   "metadata": {},
   "outputs": [],
   "source": [
    "restaurants = [\"McDonald's\", \"Burger King\", \"McDonald's\", \"Chicken Chicken\"]\n",
    "unique_restaurants = set(restaurants)\n",
    "print(unique_restaurants)\n",
    "# prints {'Chicken Chicken', \"McDonald's\", 'Burger King'}"
   ]
  },
  {
   "attachments": {},
   "cell_type": "markdown",
   "metadata": {},
   "source": [
    "Note that the set is not in the same order as the original list; that is because sets are unordered, just like dicts.\n",
    "\n",
    "This can easily be transformed back into a List with Python's built in list function, giving another list that is the same list as the original but without duplicates:"
   ]
  },
  {
   "cell_type": "code",
   "execution_count": null,
   "metadata": {},
   "outputs": [],
   "source": [
    "list(unique_restaurants)\n",
    "# ['Chicken Chicken', \"McDonald's\", 'Burger King']"
   ]
  },
  {
   "attachments": {},
   "cell_type": "markdown",
   "metadata": {},
   "source": [
    "It's also common to see this as one line:"
   ]
  },
  {
   "cell_type": "code",
   "execution_count": null,
   "metadata": {},
   "outputs": [],
   "source": [
    "# Removes all duplicates and returns another list\n",
    "list(set(restaurants))"
   ]
  },
  {
   "attachments": {},
   "cell_type": "markdown",
   "metadata": {},
   "source": [
    "Now any operations that could be performed on the original list can be done again."
   ]
  },
  {
   "attachments": {},
   "cell_type": "markdown",
   "metadata": {},
   "source": [
    "## 8.3 Set of Sets"
   ]
  },
  {
   "cell_type": "code",
   "execution_count": null,
   "metadata": {},
   "outputs": [],
   "source": [
    "# {{1,2}, {3,4}}\n",
    "\n",
    "\"\"\"\n",
    "Leads to:\n",
    "TypeError: unhashable type: 'set'\n",
    "Instead, use frozenset:\n",
    "\"\"\"\n",
    "\n",
    "{frozenset({1, 2}), frozenset({3, 4})}"
   ]
  },
  {
   "attachments": {},
   "cell_type": "markdown",
   "metadata": {},
   "source": [
    "## 8.4 Set Operations using methods and Builtins"
   ]
  },
  {
   "attachments": {},
   "cell_type": "markdown",
   "metadata": {},
   "source": [
    "We define two sets a and b"
   ]
  },
  {
   "cell_type": "code",
   "execution_count": null,
   "metadata": {},
   "outputs": [],
   "source": [
    "a = {1, 2, 2, 3, 4}\n",
    "b = {3, 3, 4, 4, 5}"
   ]
  },
  {
   "attachments": {},
   "cell_type": "markdown",
   "metadata": {},
   "source": [
    "**NOTE**: {1} creates a set of one element, but {} creates an empty dict. The correct way to create an empty set is set().\n",
    "\n",
    "* Intersection\n",
    "\n",
    "a.intersection(b) returns a new set with elements present in both a and b"
   ]
  },
  {
   "cell_type": "code",
   "execution_count": null,
   "metadata": {},
   "outputs": [],
   "source": [
    "a.intersection(b)\n",
    "# {3, 4}"
   ]
  },
  {
   "attachments": {},
   "cell_type": "markdown",
   "metadata": {},
   "source": [
    "* Union\n",
    "\n",
    "a.union(b) returns a new set with elements present in either a and b"
   ]
  },
  {
   "cell_type": "code",
   "execution_count": null,
   "metadata": {},
   "outputs": [],
   "source": [
    "a.union(b)\n",
    "#{1, 2, 3, 4, 5}"
   ]
  },
  {
   "attachments": {},
   "cell_type": "markdown",
   "metadata": {},
   "source": [
    "* Difference\n",
    "\n",
    "a.difference(b) returns a new set with elements present in a but not in b"
   ]
  },
  {
   "cell_type": "code",
   "execution_count": null,
   "metadata": {},
   "outputs": [],
   "source": [
    "a.difference(b)\n",
    "#{1, 2}\n",
    "b.difference(a)\n",
    "#{5}"
   ]
  },
  {
   "attachments": {},
   "cell_type": "markdown",
   "metadata": {},
   "source": [
    "* Symmetric Difference\n",
    "\n",
    "a.symmetric_difference(b) returns a new set with elements present in either a or b but not in both"
   ]
  },
  {
   "cell_type": "code",
   "execution_count": null,
   "metadata": {},
   "outputs": [],
   "source": [
    "a.symmetric_difference(b)\n",
    "#{1, 2, 5}\n",
    "b.symmetric_difference(a)\n",
    "#{1, 2, 5}"
   ]
  },
  {
   "attachments": {},
   "cell_type": "markdown",
   "metadata": {},
   "source": [
    "**NOTE**: a.symmetric_difference(b) == b.symmetric_difference(a)"
   ]
  },
  {
   "attachments": {},
   "cell_type": "markdown",
   "metadata": {},
   "source": [
    "* Subset and superset\n",
    "\n",
    "c.issubset(a) tests whether each element of c is in a.\n",
    "\n",
    "a.issuperset(c) tests whether each element of c is in a."
   ]
  },
  {
   "cell_type": "code",
   "execution_count": null,
   "metadata": {},
   "outputs": [],
   "source": [
    "c = {1, 2}\n",
    "c.issubset(a)\n",
    "#True\n",
    "a.issuperset(c)\n",
    "#True"
   ]
  },
  {
   "attachments": {},
   "cell_type": "markdown",
   "metadata": {},
   "source": [
    "The latter operations have equivalent operators as shown below:"
   ]
  },
  {
   "attachments": {},
   "cell_type": "markdown",
   "metadata": {},
   "source": [
    "| Method                    | Operator |\n",
    "|---------------------------|----------|\n",
    "| a.intersection(b)         | a & b    |\n",
    "| a.union(b)                | a \\| b    |\n",
    "| a.difference(b)           | a - b    |\n",
    "| a.symmetric_difference(b) | a ^ b    |\n",
    "| a.issubset(b)             | a <= b   |\n",
    "| a.issuperset(b)           | a >= b   |"
   ]
  },
  {
   "attachments": {},
   "cell_type": "markdown",
   "metadata": {},
   "source": [
    "* Disjoint sets\n",
    "\n",
    "Sets a and d are disjoint if no element in a is also in d and vice versa."
   ]
  },
  {
   "cell_type": "code",
   "execution_count": null,
   "metadata": {},
   "outputs": [],
   "source": [
    "d = {5, 6}\n",
    "a.isdisjoint(b) # {2, 3, 4} are in both sets\n",
    "#False\n",
    "\n",
    "a.isdisjoint(d)\n",
    "#True\n",
    "\n",
    "# This is an equivalent check, but less efficient\n",
    "len(a & d) == 0\n",
    "#True\n",
    "\n",
    "# This is even less efficient\n",
    "a & d == set()\n",
    "#True"
   ]
  },
  {
   "attachments": {},
   "cell_type": "markdown",
   "metadata": {},
   "source": [
    "* Testing membership\n",
    "\n",
    "The builtin in keyword searches for occurances"
   ]
  },
  {
   "cell_type": "code",
   "execution_count": null,
   "metadata": {},
   "outputs": [],
   "source": [
    "1 in a\n",
    "#True\n",
    "6 in a\n",
    "#False"
   ]
  },
  {
   "attachments": {},
   "cell_type": "markdown",
   "metadata": {},
   "source": [
    "* Length\n",
    "\n",
    "The builtin len() function returns the number of elements in the set"
   ]
  },
  {
   "cell_type": "code",
   "execution_count": null,
   "metadata": {},
   "outputs": [],
   "source": [
    "len(a)\n",
    "#4\n",
    "len(b)\n",
    "#3"
   ]
  },
  {
   "attachments": {},
   "cell_type": "markdown",
   "metadata": {},
   "source": [
    "## 8.5 Sets versus multisets"
   ]
  },
  {
   "attachments": {},
   "cell_type": "markdown",
   "metadata": {},
   "source": [
    "Sets are unordered collections of distinct elements. But sometimes we want to work with unordered collections of elements that are not necessarily distinct and keep track of the elements' multiplicities.\n",
    "\n",
    "Consider this example:"
   ]
  },
  {
   "cell_type": "code",
   "execution_count": null,
   "metadata": {},
   "outputs": [],
   "source": [
    "setA = {'a','b','b','c'}\n",
    "setA\n",
    "# set(['a', 'c', 'b'])"
   ]
  },
  {
   "attachments": {},
   "cell_type": "markdown",
   "metadata": {},
   "source": [
    "By saving the strings 'a', 'b', 'b', 'c' into a set data structure we've lost the information on the fact that 'b' occurs twice. Of course saving the elements to a list would retain this information"
   ]
  },
  {
   "cell_type": "code",
   "execution_count": null,
   "metadata": {},
   "outputs": [],
   "source": [
    "listA = ['a','b','b','c']\n",
    "listA\n",
    "#['a', 'b', 'b', 'c']"
   ]
  },
  {
   "attachments": {},
   "cell_type": "markdown",
   "metadata": {},
   "source": [
    "But a list data structure introduces an extra unneeded ordering that will slow down our computations.\n",
    "\n",
    "For implementing multisets Python provides the Counter class from the collections module (starting from version 2.7):"
   ]
  },
  {
   "cell_type": "code",
   "execution_count": null,
   "metadata": {},
   "outputs": [],
   "source": [
    "from collections import Counter\n",
    "\n",
    "counterA = Counter(['a','b','b','c'])\n",
    "counterA\n",
    "#Counter({'b': 2, 'a': 1, 'c': 1})"
   ]
  },
  {
   "attachments": {},
   "cell_type": "markdown",
   "metadata": {},
   "source": [
    "Counter is a dictionary where where elements are stored as dictionary keys and their counts are stored as dictionary values. And as all dictionaries, it is an unordered collection."
   ]
  }
 ],
 "metadata": {
  "language_info": {
   "name": "python"
  },
  "orig_nbformat": 4
 },
 "nbformat": 4,
 "nbformat_minor": 2
}
