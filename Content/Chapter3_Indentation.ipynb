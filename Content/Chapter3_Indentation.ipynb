{
 "cells": [
  {
   "attachments": {},
   "cell_type": "markdown",
   "metadata": {},
   "source": [
    "# Indentation"
   ]
  },
  {
   "attachments": {},
   "cell_type": "markdown",
   "metadata": {},
   "source": [
    "## 3.1 Simple example"
   ]
  },
  {
   "attachments": {},
   "cell_type": "markdown",
   "metadata": {},
   "source": [
    "For Python, Guido van Rossum based the grouping of statements on indentation. The reasons for this are explained in https://docs.python.org/3/faq/design.html. Colons, :, are used to declare an indented code block because: \n",
    "https://docs.python.org/3/faq/design.html#why-are-colons-required-for-the-if-while-def-class-statements \n",
    "\n",
    "Such as the following example:"
   ]
  },
  {
   "cell_type": "code",
   "execution_count": null,
   "metadata": {},
   "outputs": [],
   "source": [
    "class ExampleClass:\n",
    "    #Every function belonging to a class must be indented equally\n",
    "    def __init__(self):\n",
    "        name = \"example\"\n",
    "\n",
    "    def someFunction(self, a):\n",
    "        #Notice everything belonging to a function must be indented\n",
    "        if a > 5:\n",
    "            return True\n",
    "        else:\n",
    "            return False\n",
    "        \n",
    "#If a function is not indented to the same level it will not be considers as part of the parent class\n",
    "def separateFunction(b):\n",
    "    for i in b:\n",
    "    #Loops are also indented and nested conditions start a new indentation\n",
    "        if i == 1:\n",
    "            return True\n",
    "    return False\n",
    "\n",
    "separateFunction([2,3,5,6,1])"
   ]
  },
  {
   "attachments": {},
   "cell_type": "markdown",
   "metadata": {},
   "source": [
    "**Spaces or Tabs?**\n",
    "\n",
    "The recommended indentation is 4 spaces but tabs or spaces can be used so long as they are consistent. Do not\n",
    "mix tabs and spaces in Python as this will cause an error in Python 3 and can causes errors in Python 2.\n",
    "\n",
    "https://peps.python.org/pep-0008/#tabs-or-spaces"
   ]
  },
  {
   "attachments": {},
   "cell_type": "markdown",
   "metadata": {},
   "source": [
    "## 3.2 How indentation is Parsed"
   ]
  },
  {
   "attachments": {},
   "cell_type": "markdown",
   "metadata": {},
   "source": [
    "Whitespace is handled by the lexical analyzer before being parsed.\n",
    "\n",
    "The lexical analyzer uses a stack to store indentation levels. At the beginning, the stack contains just the value 0, which is the leftmost position. Whenever a nested block begins, the new indentation level is pushed on the stack, and an \"INDENT\" token is inserted into the token stream which is passed to the parser. There can never be more than one \"INDENT\" token in a row (IndentationError).\n",
    "\n",
    "When a line is encountered with a smaller indentation level, values are popped from the stack until a value is on top which is equal to the new indentation level (if none is found, a syntax error occurs). For each value popped, a \"DEDENT\" token is generated. Obviously, there can be multiple \"DEDENT\" tokens in a row.\n",
    "\n",
    "The lexical analyzer skips empty lines (those containing only whitespace and possibly comments), and will never generate either \"INDENT\" or \"DEDENT\" tokens for them.\n",
    "\n",
    "At the end of the source code, \"DEDENT\" tokens are generated for each indentation level left on the stack, until just the 0 is left.\n",
    "\n",
    "For example:"
   ]
  },
  {
   "cell_type": "code",
   "execution_count": null,
   "metadata": {},
   "outputs": [],
   "source": [
    "if x:\n",
    "    if y:\n",
    "        x = 42\n",
    "else:\n",
    "    print(x)\n",
    "\n",
    "\n",
    "\"\"\"\n",
    "is analyzed as:\n",
    "\n",
    "<if> <foo> <:> [0]\n",
    "<INDENT> <if> <bar> <:> [0, 4]\n",
    "<INDENT> <x> <=> <42> [0, 4, 8]\n",
    "<DEDENT> <DEDENT> <else> <:> [0]\n",
    "<INDENT> <print> <foo> [0, 2]\n",
    "<DEDENT>\n",
    "\n",
    "\"\"\""
   ]
  },
  {
   "attachments": {},
   "cell_type": "markdown",
   "metadata": {},
   "source": [
    "The parser than handles the \"INDENT\" and \"DEDENT\" tokens as block delimiters."
   ]
  },
  {
   "attachments": {},
   "cell_type": "markdown",
   "metadata": {},
   "source": [
    "## 3.3 Indentation Errors"
   ]
  },
  {
   "attachments": {},
   "cell_type": "markdown",
   "metadata": {},
   "source": [
    "The spacing should be even and uniform throughout. Improper indentation can cause an IndentationError or cause the program to do something unexpected. The following example raises an IndentationError:"
   ]
  },
  {
   "cell_type": "code",
   "execution_count": null,
   "metadata": {},
   "outputs": [],
   "source": [
    "a = 7\n",
    "if a > 5:\n",
    "    print(\"foo\")\n",
    "else:\n",
    "     print(\"bar\")  #Indentation error\n",
    "    print(\"done\") "
   ]
  },
  {
   "attachments": {},
   "cell_type": "markdown",
   "metadata": {},
   "source": [
    "Or if the line following a colon is not indented, an IndentationError will also be raised:"
   ]
  },
  {
   "cell_type": "code",
   "execution_count": null,
   "metadata": {},
   "outputs": [],
   "source": [
    "if True:\n",
    "print(\"true\")"
   ]
  },
  {
   "attachments": {},
   "cell_type": "markdown",
   "metadata": {},
   "source": [
    "If you add indentation where it doesn't belong, an IndentationError will be raised:"
   ]
  },
  {
   "cell_type": "code",
   "execution_count": null,
   "metadata": {},
   "outputs": [],
   "source": [
    "if True:\n",
    "    a = 6\n",
    "        b = 5   "
   ]
  },
  {
   "attachments": {},
   "cell_type": "markdown",
   "metadata": {},
   "source": [
    "If you forget to un-indent functionality could be lost. In this example None is returned instead of the expected False:"
   ]
  },
  {
   "cell_type": "code",
   "execution_count": null,
   "metadata": {},
   "outputs": [],
   "source": [
    "def isEven(a):\n",
    "    if a%2 ==0:\n",
    "        return True\n",
    "    #this next line should be even with the if\n",
    "        return False\n",
    "print(isEven(7))"
   ]
  }
 ],
 "metadata": {
  "language_info": {
   "name": "python"
  },
  "orig_nbformat": 4
 },
 "nbformat": 4,
 "nbformat_minor": 2
}
