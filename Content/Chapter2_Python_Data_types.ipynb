{
 "cells": [
  {
   "attachments": {},
   "cell_type": "markdown",
   "metadata": {},
   "source": [
    "# Python Data Types"
   ]
  },
  {
   "attachments": {},
   "cell_type": "markdown",
   "metadata": {},
   "source": [
    "Data types are nothing but variables you use to reserve some space in memory. Python variables do not need an explicit declaration to reserve memory space. The declaration happens automatically when you assign a value to a variable."
   ]
  },
  {
   "attachments": {},
   "cell_type": "markdown",
   "metadata": {},
   "source": [
    "## 2.1 String Data Type "
   ]
  },
  {
   "attachments": {},
   "cell_type": "markdown",
   "metadata": {},
   "source": [
    "String are identified as a contiguous set of characters represented in the quotation marks. Python allows for either pairs of single or double quotes. Strings are **immutable** sequence data type, i.e each time one makes any changes to a string, completely new string object is created."
   ]
  },
  {
   "cell_type": "code",
   "execution_count": null,
   "metadata": {},
   "outputs": [],
   "source": [
    "a_str = 'Hello World'\n",
    "\n",
    "print(a_str) #output will be whole string. Hello World\n",
    "\n",
    "print(a_str[0]) #output will be first character. H\n",
    "\n",
    "print(a_str[0:5]) #output will be first five characters. Hello"
   ]
  },
  {
   "attachments": {},
   "cell_type": "markdown",
   "metadata": {},
   "source": [
    "## 2.2 Set Data Types"
   ]
  },
  {
   "attachments": {},
   "cell_type": "markdown",
   "metadata": {},
   "source": [
    "Sets are **unordered** collections of unique objects, there are two types of set:"
   ]
  },
  {
   "attachments": {},
   "cell_type": "markdown",
   "metadata": {},
   "source": [
    "1. Sets - They are mutable and new elements can be added once sets are defined"
   ]
  },
  {
   "cell_type": "code",
   "execution_count": null,
   "metadata": {},
   "outputs": [],
   "source": [
    "basket = {'apple', 'orange', 'apple', 'pear', 'orange', 'banana'}\n",
    "print(basket) # duplicates will be removed\n",
    "# {'orange', 'banana', 'pear', 'apple'}\n",
    "\n",
    "a = set('abracadabra')\n",
    "print(a) # unique letters in a\n",
    "# {'a', 'r', 'b', 'c', 'd'}\n",
    "\n",
    "a.add('z')\n",
    "print(a)\n",
    "# {'a', 'c', 'r', 'b', 'z', 'd'}"
   ]
  },
  {
   "attachments": {},
   "cell_type": "markdown",
   "metadata": {},
   "source": [
    "2. Frozen Sets - They are immutable and new elements cannot added after its defined."
   ]
  },
  {
   "cell_type": "code",
   "execution_count": null,
   "metadata": {},
   "outputs": [],
   "source": [
    "b = frozenset('asdfagsa')\n",
    "print(b)\n",
    "# frozenset({'f', 'g', 'd', 'a', 's'})\n",
    "\n",
    "cities = frozenset([\"Frankfurt\", \"Basel\",\"Freiburg\"])\n",
    "print(cities)\n",
    "# frozenset({'Frankfurt', 'Basel', 'Freiburg'})"
   ]
  },
  {
   "attachments": {},
   "cell_type": "markdown",
   "metadata": {},
   "source": [
    "## 2.3 Numbers Data Type"
   ]
  },
  {
   "attachments": {},
   "cell_type": "markdown",
   "metadata": {},
   "source": [
    "Numbers have three types in Python. Int, float and complex. (In Python 2 there is one more: long)"
   ]
  },
  {
   "cell_type": "code",
   "execution_count": null,
   "metadata": {},
   "outputs": [],
   "source": [
    "int_num = 10 #int value\n",
    "\n",
    "float_num = 10.2 #float value\n",
    "\n",
    "complex_num = 3.14j #complex value\n"
   ]
  },
  {
   "attachments": {},
   "cell_type": "markdown",
   "metadata": {},
   "source": [
    "## 2.4 List Data Type"
   ]
  },
  {
   "attachments": {},
   "cell_type": "markdown",
   "metadata": {},
   "source": [
    "A list contains items separated by commas and enclosed within square brackets [].\n",
    "\n",
    "Lists are almost similar to arrays in C. One difference is that all the items belonging to a list can be of different data type."
   ]
  },
  {
   "cell_type": "code",
   "execution_count": null,
   "metadata": {},
   "outputs": [],
   "source": [
    "list = [123,'abcd',10.2,'d'] #can be an array of any data type or single data type.\n",
    "\n",
    "list1 = ['hello','world']\n",
    "\n",
    "print(list) #will output whole list. [123,'abcd',10.2,'d']\n",
    "\n",
    "print(list[0:2]) #will output first two element of list. [123,'abcd']\n",
    "\n",
    "print(list1 * 2) #will gave list1 two times. ['hello','world','hello','world']\n",
    "\n",
    "print(list + list1) #will gave concatenation of both the lists.\n",
    "#[123,'abcd',10.2,'d','hello','world']"
   ]
  },
  {
   "attachments": {},
   "cell_type": "markdown",
   "metadata": {},
   "source": [
    "## 2.5 Dictionary Data Type"
   ]
  },
  {
   "attachments": {},
   "cell_type": "markdown",
   "metadata": {},
   "source": [
    "Dictionary consists of key-value pairs. It is enclosed by curly braces {} and values can be assigned and accessed using square brackets[]."
   ]
  },
  {
   "cell_type": "code",
   "execution_count": null,
   "metadata": {},
   "outputs": [],
   "source": [
    "dic={'name':'red','age':10}\n",
    "\n",
    "print(dic) #will output all the key-value pairs. {'name':'red','age':10}\n",
    "\n",
    "print(dic['name']) #will output only value with 'name' key. 'red'\n",
    "\n",
    "print(dic.values()) #will output list of values in dic. ['red',10]\n",
    "\n",
    "print(dic.keys()) #will output list of keys. ['name','age']"
   ]
  },
  {
   "attachments": {},
   "cell_type": "markdown",
   "metadata": {},
   "source": [
    "## 2.6 Tuple Data Type"
   ]
  },
  {
   "attachments": {},
   "cell_type": "markdown",
   "metadata": {},
   "source": [
    "Lists are enclosed in brackets [ ] and their elements and size can be changed, while tuples are enclosed in parentheses ( ) and cannot be updated. Tuples are immutable."
   ]
  },
  {
   "cell_type": "code",
   "execution_count": null,
   "metadata": {},
   "outputs": [],
   "source": [
    "tuple = (123,'hello')\n",
    "\n",
    "tuple1 = ('world')\n",
    "\n",
    "print(tuple) #will output whole tuple. (123,'hello')\n",
    "\n",
    "print(tuple[0]) #will output first value. (123)\n",
    "\n",
    "print(tuple + tuple1) #will output (123,'hello','world')\n",
    "\n",
    "tuple[1]='update' #this will give you error."
   ]
  }
 ],
 "metadata": {
  "language_info": {
   "name": "python"
  },
  "orig_nbformat": 4
 },
 "nbformat": 4,
 "nbformat_minor": 2
}
