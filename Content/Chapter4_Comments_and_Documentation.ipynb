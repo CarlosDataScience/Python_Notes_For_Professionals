{
 "cells": [
  {
   "attachments": {},
   "cell_type": "markdown",
   "metadata": {},
   "source": [
    "# Comments and Documentation"
   ]
  },
  {
   "attachments": {},
   "cell_type": "markdown",
   "metadata": {},
   "source": [
    "## 4.1 Single line, inline and multiline comments."
   ]
  },
  {
   "attachments": {},
   "cell_type": "markdown",
   "metadata": {},
   "source": [
    "Comments are used to explain code when the basic code itself isn't clear.\n",
    "\n",
    "Python ignores comments, and so will not execute code in there, or raise syntax errors for plain English sentences.\n",
    "\n",
    "Single-line comments begin with the hash character (#) and are terminated by the end of line.\n",
    "\n",
    "* Single line comment:"
   ]
  },
  {
   "cell_type": "code",
   "execution_count": null,
   "metadata": {},
   "outputs": [],
   "source": [
    "# This is a single line comment in Python"
   ]
  },
  {
   "attachments": {},
   "cell_type": "markdown",
   "metadata": {},
   "source": [
    "* Inline comment:"
   ]
  },
  {
   "cell_type": "code",
   "execution_count": null,
   "metadata": {},
   "outputs": [],
   "source": [
    "print(\"Hello World\") # This line prints \"Hello World\""
   ]
  },
  {
   "attachments": {},
   "cell_type": "markdown",
   "metadata": {},
   "source": [
    "* Comments spanning multiple lines have \"\"\" or ''' on either end. This is the same as a multiline string, but they can be used as comments:"
   ]
  },
  {
   "cell_type": "code",
   "execution_count": null,
   "metadata": {},
   "outputs": [],
   "source": [
    "\"\"\"\n",
    "This type of comment spans multiple lines.\n",
    "These are mostly used for documentation of functions, classes and modules.\n",
    "\"\"\""
   ]
  },
  {
   "attachments": {},
   "cell_type": "markdown",
   "metadata": {},
   "source": [
    "## 4.2 Programmatically accessing docstrings"
   ]
  },
  {
   "attachments": {},
   "cell_type": "markdown",
   "metadata": {},
   "source": [
    "Docstrings are - unlike regular comments - stored as an attribute of the function they document, meaning that you can access them programmatically."
   ]
  },
  {
   "cell_type": "code",
   "execution_count": null,
   "metadata": {},
   "outputs": [],
   "source": [
    "def func():\n",
    "    \"\"\"This is a function that does nothing at all\"\"\"\n",
    "    return"
   ]
  },
  {
   "cell_type": "code",
   "execution_count": null,
   "metadata": {},
   "outputs": [],
   "source": [
    "#The docstring can be accessed using the __doc__ attribute:\n",
    "print(func.__doc__)\n",
    "#Output: This is a function that does nothing at all\n",
    "\n",
    "help(func)\n",
    "\"\"\"\n",
    "Output:\n",
    "\n",
    "Help on function func in module __main__:\n",
    "func()\n",
    "    This is a function that does nothing at all\n",
    "\"\"\"\n"
   ]
  },
  {
   "attachments": {},
   "cell_type": "markdown",
   "metadata": {},
   "source": [
    "function.__ doc __ is just the actual docstring as a string, while the help function provides general information\n",
    "about a function, including the docstring. Here's a more helpful example:"
   ]
  },
  {
   "cell_type": "code",
   "execution_count": null,
   "metadata": {},
   "outputs": [],
   "source": [
    "def greet(name, greeting=\"Hello\"):\n",
    "    \"\"\"Print a greeting to the user `name`\n",
    "    Optional parameter `greeting` can change what they're greeted with.\"\"\"\n",
    "    print(\"{} {}\".format(greeting, name))\n",
    "\n",
    "help(greet)\n",
    "\n",
    "\"\"\"\n",
    "Output:\n",
    "\n",
    "Help on function greet in module __main__:\n",
    "greet(name, greeting='Hello')\n",
    "    Print a greeting to the user name\n",
    "    Optional parameter greeting can change what they're greeted with.\n",
    "\"\"\""
   ]
  },
  {
   "attachments": {},
   "cell_type": "markdown",
   "metadata": {},
   "source": [
    "**Advantages of docstrings over regular comments**\n",
    "\n",
    "Just putting no docstring or a regular comment in a function makes it a lot less helpful."
   ]
  },
  {
   "cell_type": "code",
   "execution_count": null,
   "metadata": {},
   "outputs": [],
   "source": [
    "def greet(name, greeting=\"Hello\"):\n",
    "    # Print a greeting to the user `name`\n",
    "    # Optional parameter `greeting` can change what they're greeted with.\n",
    "    print(\"{} {}\".format(greeting, name))\n",
    "\n",
    "print(greet.__doc__)\n",
    "\n",
    "#Output = None\n",
    "\n",
    "help(greet)\n",
    "\n",
    "\"\"\"\n",
    "Output:\n",
    "\n",
    "Help on function greet in module main:\n",
    "greet(name, greeting='Hello')\n",
    "\"\"\""
   ]
  },
  {
   "attachments": {},
   "cell_type": "markdown",
   "metadata": {},
   "source": [
    "## 4.3 Write documentation using docstrings"
   ]
  },
  {
   "attachments": {},
   "cell_type": "markdown",
   "metadata": {},
   "source": [
    "A docstring is a multi-line comment used to document modules, classes, functions and methods. It has to be the first statement of the component it describes.\n",
    "\n",
    "https://peps.python.org/pep-0257/"
   ]
  },
  {
   "cell_type": "code",
   "execution_count": null,
   "metadata": {},
   "outputs": [],
   "source": [
    "def hello(name):\n",
    "    \"\"\"Greet someone.\n",
    "    Print a greeting (\"Hello\") for the person with the given name.\n",
    "    \"\"\"\n",
    "    \n",
    "    print(\"Hello \"+name)\n",
    "class Greeter:\n",
    "    \"\"\"An object used to greet people.\n",
    "    It contains multiple greeting functions for several languages\n",
    "    and times of the day.\n",
    "    \"\"\""
   ]
  },
  {
   "attachments": {},
   "cell_type": "markdown",
   "metadata": {},
   "source": [
    "The value of the docstring can be accessed within the program and is - for example - used by the help command."
   ]
  },
  {
   "attachments": {},
   "cell_type": "markdown",
   "metadata": {},
   "source": [
    "**Syntax conventions**\n",
    "**PEP 257**\n",
    "\n",
    "Check: https://peps.python.org/pep-0257/\n",
    "\n",
    "PEP 257 defines a syntax standard for docstring comments. It basically allows two types:\n",
    "\n",
    "* One-line Docstrings:\n",
    "According to PEP 257, they should be used with short and simple functions. Everything is placed in one line, e.g:"
   ]
  },
  {
   "cell_type": "code",
   "execution_count": null,
   "metadata": {},
   "outputs": [],
   "source": [
    "def hello():\n",
    "    \"\"\"Say hello to your friends.\"\"\"\n",
    "    print(\"Hello my friends!\")"
   ]
  },
  {
   "attachments": {},
   "cell_type": "markdown",
   "metadata": {},
   "source": [
    "The docstring shall end with a period, the verb should be in the imperative form.\n",
    "\n",
    "* Multi-line Docstrings:\n",
    "\n",
    "Multi-line docstring should be used for longer, more complex functions, modules or classes."
   ]
  },
  {
   "cell_type": "code",
   "execution_count": null,
   "metadata": {},
   "outputs": [],
   "source": [
    "import greeting\n",
    "def hello(name, language=\"en\"):\n",
    "    \"\"\"Say hello to a person.\n",
    "    Arguments:\n",
    "    name: the name of the person\n",
    "    language: the language in which the person should be greeted\n",
    "    \"\"\"\n",
    "    print(greeting[language]+\" \"+name)"
   ]
  },
  {
   "attachments": {},
   "cell_type": "markdown",
   "metadata": {},
   "source": [
    "They start with a short summary (equivalent to the content of a one-line docstring) which can be on the same line as the quotation marks or on the next line, give additional detail and list parameters and return values.\n",
    "\n",
    "Note PEP 257 defines what information should be given within a docstring, it doesn't define in which format it should be given. This was the reason for other parties and documentation parsing tools to specify their own standards for documentation, some of which are listed below and in this question: https://stackoverflow.com/questions/5334531/using-javadoc-for-python-documentation"
   ]
  },
  {
   "attachments": {},
   "cell_type": "markdown",
   "metadata": {},
   "source": [
    "**Sphinx**\n",
    "\n",
    "Sphinx is a tool to generate HTML based documentation for Python projects based on docstrings. Its markup language used is reStructuredText. They define their own standards for documentation, pythonhosted.org hosts a very good description of them. The Sphinx format is for example used by the pyCharm IDE.\n",
    "\n",
    "A function would be documented like this using the Sphinx/reStructuredText format:"
   ]
  },
  {
   "cell_type": "code",
   "execution_count": null,
   "metadata": {},
   "outputs": [],
   "source": [
    "def hello(name, language=\"en\"):\n",
    "    \"\"\"Say hello to a person.\n",
    "    \n",
    "    :param name: the name of the person\n",
    "    :type name: str\n",
    "    :param language: the language in which the person should be greeted\n",
    "    :type language: str\n",
    "    :return: a number\n",
    "    :rtype: int\n",
    "    \"\"\"\n",
    "    print(greeting[language]+\" \"+name)\n",
    "    return 4"
   ]
  },
  {
   "attachments": {},
   "cell_type": "markdown",
   "metadata": {},
   "source": [
    "**Google Python Style Guide**\n",
    "\n",
    "https://google.github.io/styleguide/pyguide.html?showone=Comments#Comments\n",
    "\n",
    "Google has published Google Python Style Guide which defines coding conventions for Python, including documentation comments. In comparison to the Sphinx/reST many people say that documentation according to Google's guidelines is better human-readable.\n",
    "\n",
    "The pythonhosted.org page mentioned above also provides some examples for good documentation according to\n",
    "the Google Style Guide.\n",
    "\n",
    "Using the Napoleon plugin, Sphinx can also parse documentation in the Google Style Guide-compliant format.\n",
    "\n",
    "A function would be documented like this using the Google Style Guide format:"
   ]
  },
  {
   "cell_type": "code",
   "execution_count": null,
   "metadata": {},
   "outputs": [],
   "source": [
    "def hello(name, language=\"en\"):\n",
    "    \"\"\"Say hello to a person.\n",
    "    Args:\n",
    "        name: the name of the person as string\n",
    "        language: the language code string\n",
    "    Returns:\n",
    "        A number.\n",
    "    \"\"\"\n",
    "    print(greeting[language]+\" \"+name)\n",
    "    return 4"
   ]
  }
 ],
 "metadata": {
  "language_info": {
   "name": "python"
  },
  "orig_nbformat": 4
 },
 "nbformat": 4,
 "nbformat_minor": 2
}
